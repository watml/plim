{
 "cells": [
  {
   "cell_type": "code",
   "execution_count": null,
   "metadata": {},
   "outputs": [
    {
     "name": "stdout",
     "output_type": "stream",
     "text": [
      "0it [00:00, ?it/s]Train Epoch: 1 [0/670 (0%)]\tLoss: 0.577802\n",
      "7it [00:00, 370.29it/s]\n",
      "\n",
      "Test set: Average loss: 0.0018, Accuracy: 29/330 (8.79%)\n",
      "\n",
      "0it [00:00, ?it/s]Train Epoch: 2 [0/670 (0%)]\tLoss: 0.162941\n",
      "7it [00:00, 670.11it/s]\n",
      "\n",
      "Test set: Average loss: 0.0012, Accuracy: 11/330 (3.33%)\n",
      "\n",
      "start attack\n",
      "0it [00:00, ?it/s]Train Epoch: attack epoch [0/670 (0%)]\tLoss: 0.112260\n",
      "7it [00:00, 464.28it/s]\n",
      "Accuracy After attack:\n",
      "\n",
      "Test set: Average loss: 0.0317, Accuracy: 0/330 (0.00%)\n",
      "\n"
     ]
    }
   ],
   "source": [
    "!python grad_attack_gaussian.py --eps=5 --epoch=2"
   ]
  },
  {
   "cell_type": "code",
   "execution_count": null,
   "metadata": {},
   "outputs": [],
   "source": []
  }
 ],
 "metadata": {
  "kernelspec": {
   "display_name": "Python 3",
   "language": "python",
   "name": "python3"
  },
  "language_info": {
   "codemirror_mode": {
    "name": "ipython",
    "version": 3
   },
   "file_extension": ".py",
   "mimetype": "text/x-python",
   "name": "python",
   "nbconvert_exporter": "python",
   "pygments_lexer": "ipython3",
   "version": "3.6.10"
  }
 },
 "nbformat": 4,
 "nbformat_minor": 2
}
