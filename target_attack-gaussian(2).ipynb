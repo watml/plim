{
 "cells": [
  {
   "cell_type": "code",
   "execution_count": 1,
   "metadata": {},
   "outputs": [],
   "source": [
    "# target parameter attack on linear regression with close form solution on the cross derivative\n",
    "\n",
    "import os\n",
    "import time\n",
    "import torch\n",
    "from torch import nn\n",
    "import torch.nn.functional as F\n",
    "import torch.optim as optim\n",
    "from torch.autograd import Variable\n",
    "from torchvision import datasets, transforms\n",
    "from torch.utils.data import Dataset, DataLoader\n",
    "from numpy import linalg as LA\n",
    "import numpy as np\n",
    "import math\n",
    "from tqdm import tqdm\n",
    "import matplotlib\n",
    "from matplotlib import pyplot as plt\n",
    "import seaborn as sns\n",
    "import numpy as np\n",
    "from sklearn.model_selection import train_test_split\n",
    "import matplotlib\n",
    "from sklearn.datasets import make_classification\n",
    "\n",
    "\n",
    "torch.manual_seed(0)\n",
    "device = 'cuda'"
   ]
  },
  {
   "cell_type": "code",
   "execution_count": 2,
   "metadata": {},
   "outputs": [],
   "source": [
    "# creating the gaussian dataset\n",
    "\n",
    "# define training set\n",
    "separable = False\n",
    "while not separable:\n",
    "    samples = make_classification(n_samples=1000, n_features=3, n_redundant=0, n_informative=1, n_clusters_per_class=1, flip_y=-1)\n",
    "    red = samples[0][samples[1] == 0]\n",
    "    blue = samples[0][samples[1] == 1]\n",
    "    separable = any([red[:, k].max() < blue[:, k].min() or red[:, k].min() > blue[:, k].max() for k in range(2)])\n",
    "red_labels = np.zeros(len(red))\n",
    "blue_labels = np.ones(len(blue))\n",
    "\n",
    "labels = np.append(red_labels,blue_labels)\n",
    "inputs = np.concatenate((red,blue),axis=0)\n",
    "\n",
    "X_train, X_test, y_train,  y_test = train_test_split(\n",
    "    inputs, labels, test_size=0.33, random_state=42)\n",
    "\n",
    "X_train, X_test = torch.Tensor(X_train),torch.Tensor(X_test)\n",
    "y_train, y_test = torch.Tensor(y_train),torch.Tensor(y_test)\n",
    "\n"
   ]
  },
  {
   "cell_type": "code",
   "execution_count": 3,
   "metadata": {},
   "outputs": [
    {
     "name": "stdout",
     "output_type": "stream",
     "text": [
      "torch.Size([670])\n",
      "torch.Size([2010])\n"
     ]
    }
   ],
   "source": [
    "print(y_train.size())\n",
    "y = y_train.repeat(3)\n",
    "print(y.size())"
   ]
  },
  {
   "cell_type": "code",
   "execution_count": 4,
   "metadata": {},
   "outputs": [],
   "source": [
    "batch_size_train= len(X_train)\n",
    "batch_size_test = len(X_test)\n",
    "class LinearDataset(Dataset):\n",
    "    def __init__(self, X, y):\n",
    "        assert X.size()[0] == y.size()[0]\n",
    "        self.X = X\n",
    "        self.y = y\n",
    "\n",
    "    def __len__(self):\n",
    "        return self.X.size()[0]\n",
    "\n",
    "    def __getitem__(self, idx):\n",
    "        \n",
    "        \n",
    "        return [self.X[idx], self.y[idx]]\n",
    "train_loader = DataLoader(LinearDataset(X_train, y_train), batch_size=batch_size_train, shuffle=False)\n",
    "test_loader = DataLoader(LinearDataset(X_test, y_test), batch_size=batch_size_test, shuffle=False)"
   ]
  },
  {
   "cell_type": "code",
   "execution_count": 5,
   "metadata": {},
   "outputs": [
    {
     "data": {
      "text/plain": [
       "<All keys matched successfully>"
      ]
     },
     "execution_count": 5,
     "metadata": {},
     "output_type": "execute_result"
    }
   ],
   "source": [
    "class LogisticRegression(torch.nn.Module):\n",
    "    def __init__(self, input_dim, output_dim):\n",
    "        super(LogisticRegression, self).__init__()\n",
    "        self.linear = torch.nn.Linear(input_dim, output_dim)\n",
    "        \n",
    "    def forward(self, x):\n",
    "        #outputs = torch.sigmoid(self.linear(x))\n",
    "        outputs = self.linear(x)\n",
    "        return outputs\n",
    "\n",
    "input_dim = 3 \n",
    "output_dim = 1 # Two possible outputs\n",
    "learning_rate = 0.01\n",
    "\n",
    "model = LogisticRegression(input_dim,output_dim).to(device)\n",
    "model.load_state_dict(torch.load(\"gaussian_gd_0.5.pt\"))"
   ]
  },
  {
   "cell_type": "code",
   "execution_count": 6,
   "metadata": {},
   "outputs": [
    {
     "name": "stdout",
     "output_type": "stream",
     "text": [
      "(0.2784645427610738+0j)\n"
     ]
    }
   ],
   "source": [
    "from scipy.special import lambertw\n",
    "import math\n",
    "lambert_w = lambertw(1/math.e)\n",
    "print(lambert_w)"
   ]
  },
  {
   "cell_type": "code",
   "execution_count": 7,
   "metadata": {},
   "outputs": [
    {
     "name": "stdout",
     "output_type": "stream",
     "text": [
      "Parameter containing:\n",
      "tensor([[-0.3458, -2.4712,  0.1935]], device='cuda:0', requires_grad=True)\n"
     ]
    }
   ],
   "source": [
    "for param in model.parameters():\n",
    "    w_p = param\n",
    "    break\n",
    "print(w_p)"
   ]
  },
  {
   "cell_type": "code",
   "execution_count": 8,
   "metadata": {},
   "outputs": [
    {
     "name": "stdout",
     "output_type": "stream",
     "text": [
      "linear.weight tensor([[-0.3458, -2.4712,  0.1935]], device='cuda:0')\n",
      "linear.bias tensor([1.2288], device='cuda:0')\n"
     ]
    }
   ],
   "source": [
    "for name, param in model.named_parameters():\n",
    "    if param.requires_grad:\n",
    "        print(name, param.data)"
   ]
  },
  {
   "cell_type": "code",
   "execution_count": 9,
   "metadata": {},
   "outputs": [
    {
     "data": {
      "text/plain": [
       "<All keys matched successfully>"
      ]
     },
     "execution_count": 9,
     "metadata": {},
     "output_type": "execute_result"
    }
   ],
   "source": [
    "# try scaling the weights \n",
    "state_dict = model.state_dict()\n",
    "state_dict['linear.weight'] = torch.tensor([[-0.03458,-0.24712,0.01935]])\n",
    "model.load_state_dict(state_dict)"
   ]
  },
  {
   "cell_type": "code",
   "execution_count": 12,
   "metadata": {},
   "outputs": [],
   "source": [
    "# the script for training target attack\n",
    "epsilon = 0.06\n",
    "lr = 1\n",
    "epochs = 2000\n",
    "\n",
    "def adjust_learning_rate(lr, epoch):\n",
    "    \"\"\"Decay the learning rate based on schedule\"\"\"\n",
    "    lr *= 0.5 * (1. + math.cos(math.pi * epoch / epochs))\n",
    "    return(lr)\n",
    "\n",
    "\n",
    "def autograd(outputs, inputs, create_graph=False):\n",
    "    \"\"\"Compute gradient of outputs w.r.t. inputs, assuming outputs is a scalar.\"\"\"\n",
    "    #inputs = tuple(inputs)\n",
    "    grads = torch.autograd.grad(outputs, inputs, create_graph=create_graph, allow_unused=True)\n",
    "    return [xx if xx is not None else yy.new_zeros(yy.size()) for xx, yy in zip(grads, inputs)]\n",
    "\n",
    "def train(epoch, X,y):\n",
    "    data, target = X.to(device), y.to(device)\n",
    "    data.requires_grad=True\n",
    "    if epoch==0:\n",
    "        # initialize poisoned data\n",
    "        if epsilon<=1:\n",
    "            data_p = Variable(data[:(int(epsilon*len(data)))])\n",
    "            target_p = Variable(target[:(int(epsilon*len(target)))])\n",
    "        else:\n",
    "            data_p = Variable(torch.cat((data.repeat(int(epsilon),1),data[:(int((epsilon-int(epsilon))*len(data)))]),0))\n",
    "            target_p = Variable(torch.cat((target.repeat(int(epsilon)),target[:(int((epsilon-int(epsilon))*len(target)))]),0))\n",
    "        torch.save(target_p,'target_p_gaussian_{}.pt'.format(epsilon))\n",
    "    else:\n",
    "        data_p = torch.load('data_p_gaussian_{}.pt'.format(epsilon))\n",
    "        target_p = torch.load('target_p_gaussian_{}.pt'.format(epsilon))\n",
    "    data_p.requires_grad=True\n",
    "\n",
    "    # initialize f function\n",
    "    criterion = torch.nn.BCEWithLogitsLoss(reduction='sum')\n",
    "\n",
    "    # calculate gradient of w on clean sample\n",
    "    output_c = torch.squeeze(model(data))\n",
    "    loss_c =  0.5 * criterion(output_c,target)\n",
    "\n",
    "    # calculate dL/dg_1\n",
    "    grad_c= autograd(loss_c,tuple(model.parameters()),create_graph=True)\n",
    "    g1 = grad_c[0]\n",
    "    g_mu = g1/len(y)\n",
    "    \n",
    "    # calculate the size of epsilon_d w.r.t g1 and the Lambert's W function\n",
    "    g_mu_dot_w = np.dot(g_mu.to('cpu').detach().numpy().squeeze(),w_p.cpu().detach().numpy().squeeze())\n",
    "    if epoch == 0:\n",
    "        print(g_mu_dot_w)\n",
    "        print('the necessary size of epsilon_d:{}'.format(g_mu_dot_w/lambert_w))\n",
    "    \n",
    "\n",
    "    # calculate gradient of w on poisoned sample\n",
    "    output_p = torch.squeeze(model(data_p))\n",
    "    loss_p = 0.5 * criterion(output_p,target_p)\n",
    "    grad_p= autograd(loss_p,tuple(model.parameters()),create_graph=True)\n",
    "    g2= grad_p[0]\n",
    "    \n",
    "    # calculate the true loss: |g_c + g_p|_{2}\n",
    "    grad_sum = g1+g2\n",
    "    loss = torch.norm(grad_sum,2)\n",
    "\n",
    "    update = autograd(loss,data_p,create_graph=True)\n",
    "    data_t = data_p - lr * update[0]\n",
    "\n",
    "\n",
    "    data_t = data_t.to('cuda')\n",
    "\n",
    "    torch.save(data_t, 'data_p_gaussian_{}.pt'.format(epsilon))\n",
    "    \n",
    "\n",
    "    print(\"epoch:{},lr:{},loss:{}\".format(epoch,lr,loss))\n",
    "    \n",
    "    return loss\n",
    "        "
   ]
  },
  {
   "cell_type": "code",
   "execution_count": 13,
   "metadata": {},
   "outputs": [
    {
     "name": "stdout",
     "output_type": "stream",
     "text": [
      "0.01681924\n",
      "the necessary size of epsilon_d:(0.060399935871893046+0j)\n",
      "epoch:0,lr:1,loss:182.27609252929688\n",
      "epoch:1,lr:1,loss:178.17230224609375\n",
      "epoch:2,lr:1,loss:174.17391967773438\n",
      "epoch:3,lr:1,loss:170.27223205566406\n",
      "epoch:4,lr:1,loss:166.45852661132812\n",
      "epoch:5,lr:1,loss:162.72418212890625\n",
      "epoch:6,lr:1,loss:159.06072998046875\n",
      "epoch:7,lr:1,loss:155.45999145507812\n",
      "epoch:8,lr:1,loss:151.91409301757812\n",
      "epoch:9,lr:1,loss:148.4156494140625\n",
      "epoch:10,lr:1,loss:144.9577178955078\n",
      "epoch:11,lr:1,loss:141.53396606445312\n",
      "epoch:12,lr:1,loss:138.13864135742188\n",
      "epoch:13,lr:1,loss:134.76675415039062\n",
      "epoch:14,lr:1,loss:131.4139404296875\n",
      "epoch:15,lr:1,loss:128.07675170898438\n",
      "epoch:16,lr:1,loss:124.75247192382812\n",
      "epoch:17,lr:1,loss:121.43930053710938\n",
      "epoch:18,lr:1,loss:118.13629150390625\n",
      "epoch:19,lr:1,loss:114.84346771240234\n",
      "epoch:20,lr:1,loss:111.56173706054688\n",
      "epoch:21,lr:1,loss:108.29291534423828\n",
      "epoch:22,lr:1,loss:105.03974914550781\n",
      "epoch:23,lr:1,loss:101.80583190917969\n",
      "epoch:24,lr:1,loss:98.5955810546875\n",
      "epoch:25,lr:1,loss:95.41416931152344\n",
      "epoch:26,lr:1,loss:92.26738739013672\n",
      "epoch:27,lr:1,loss:89.16158294677734\n",
      "epoch:28,lr:1,loss:86.103515625\n",
      "epoch:29,lr:1,loss:83.10014343261719\n",
      "epoch:30,lr:1,loss:80.15853881835938\n",
      "epoch:31,lr:1,loss:77.28564453125\n",
      "epoch:32,lr:1,loss:74.488037109375\n",
      "epoch:33,lr:1,loss:71.77186584472656\n",
      "epoch:34,lr:1,loss:69.14253234863281\n",
      "epoch:35,lr:1,loss:66.6046371459961\n",
      "epoch:36,lr:1,loss:64.1617660522461\n",
      "epoch:37,lr:1,loss:61.81645202636719\n",
      "epoch:38,lr:1,loss:59.57014465332031\n",
      "epoch:39,lr:1,loss:57.4232063293457\n",
      "epoch:40,lr:1,loss:55.37493896484375\n",
      "epoch:41,lr:1,loss:53.423770904541016\n",
      "epoch:42,lr:1,loss:51.56729507446289\n",
      "epoch:43,lr:1,loss:49.80250549316406\n",
      "epoch:44,lr:1,loss:48.12592697143555\n",
      "epoch:45,lr:1,loss:46.533756256103516\n",
      "epoch:46,lr:1,loss:45.02204895019531\n",
      "epoch:47,lr:1,loss:43.5868034362793\n",
      "epoch:48,lr:1,loss:42.224056243896484\n",
      "epoch:49,lr:1,loss:40.92992401123047\n",
      "epoch:50,lr:1,loss:39.70073699951172\n",
      "epoch:51,lr:1,loss:38.53295135498047\n",
      "epoch:52,lr:1,loss:37.4232063293457\n",
      "epoch:53,lr:1,loss:36.36833953857422\n",
      "epoch:54,lr:1,loss:35.3653564453125\n",
      "epoch:55,lr:1,loss:34.41141891479492\n",
      "epoch:56,lr:1,loss:33.50382995605469\n",
      "epoch:57,lr:1,loss:32.64008331298828\n",
      "epoch:58,lr:1,loss:31.817752838134766\n",
      "epoch:59,lr:1,loss:31.034555435180664\n",
      "epoch:60,lr:1,loss:30.28834342956543\n",
      "epoch:61,lr:1,loss:29.57709503173828\n",
      "epoch:62,lr:1,loss:28.898841857910156\n",
      "epoch:63,lr:1,loss:28.251802444458008\n",
      "epoch:64,lr:1,loss:27.63421630859375\n",
      "epoch:65,lr:1,loss:27.04448699951172\n",
      "epoch:66,lr:1,loss:26.481069564819336\n",
      "epoch:67,lr:1,loss:25.942527770996094\n",
      "epoch:68,lr:1,loss:25.42750358581543\n",
      "epoch:69,lr:1,loss:24.93471908569336\n",
      "epoch:70,lr:1,loss:24.462966918945312\n",
      "epoch:71,lr:1,loss:24.01112174987793\n",
      "epoch:72,lr:1,loss:23.57811164855957\n",
      "epoch:73,lr:1,loss:23.162952423095703\n",
      "epoch:74,lr:1,loss:22.764699935913086\n",
      "epoch:75,lr:1,loss:22.382463455200195\n",
      "epoch:76,lr:1,loss:22.015419006347656\n",
      "epoch:77,lr:1,loss:21.66279411315918\n",
      "epoch:78,lr:1,loss:21.32384490966797\n",
      "epoch:79,lr:1,loss:20.997875213623047\n",
      "epoch:80,lr:1,loss:20.68424415588379\n",
      "epoch:81,lr:1,loss:20.382341384887695\n",
      "epoch:82,lr:1,loss:20.09159278869629\n",
      "epoch:83,lr:1,loss:19.811450958251953\n",
      "epoch:84,lr:1,loss:19.54140281677246\n",
      "epoch:85,lr:1,loss:19.28097915649414\n",
      "epoch:86,lr:1,loss:19.02971839904785\n",
      "epoch:87,lr:1,loss:18.787189483642578\n",
      "epoch:88,lr:1,loss:18.553001403808594\n",
      "epoch:89,lr:1,loss:18.32674789428711\n",
      "epoch:90,lr:1,loss:18.108102798461914\n",
      "epoch:91,lr:1,loss:17.896705627441406\n",
      "epoch:92,lr:1,loss:17.692235946655273\n",
      "epoch:93,lr:1,loss:17.494386672973633\n",
      "epoch:94,lr:1,loss:17.302879333496094\n",
      "epoch:95,lr:1,loss:17.1174259185791\n",
      "epoch:96,lr:1,loss:16.937786102294922\n",
      "epoch:97,lr:1,loss:16.763708114624023\n",
      "epoch:98,lr:1,loss:16.594961166381836\n",
      "epoch:99,lr:1,loss:16.431318283081055\n",
      "epoch:100,lr:1,loss:16.272579193115234\n",
      "epoch:101,lr:1,loss:16.118549346923828\n",
      "epoch:102,lr:1,loss:15.96903133392334\n",
      "epoch:103,lr:1,loss:15.82384204864502\n",
      "epoch:104,lr:1,loss:15.682811737060547\n",
      "epoch:105,lr:1,loss:15.545797348022461\n",
      "epoch:106,lr:1,loss:15.412632942199707\n",
      "epoch:107,lr:1,loss:15.283157348632812\n",
      "epoch:108,lr:1,loss:15.157258987426758\n",
      "epoch:109,lr:1,loss:15.034790992736816\n",
      "epoch:110,lr:1,loss:14.915614128112793\n",
      "epoch:111,lr:1,loss:14.799631118774414\n",
      "epoch:112,lr:1,loss:14.68670654296875\n",
      "epoch:113,lr:1,loss:14.576745986938477\n",
      "epoch:114,lr:1,loss:14.469632148742676\n",
      "epoch:115,lr:1,loss:14.365267753601074\n",
      "epoch:116,lr:1,loss:14.263561248779297\n",
      "epoch:117,lr:1,loss:14.16441535949707\n",
      "epoch:118,lr:1,loss:14.06774616241455\n",
      "epoch:119,lr:1,loss:13.973470687866211\n",
      "epoch:120,lr:1,loss:13.881500244140625\n",
      "epoch:121,lr:1,loss:13.791769027709961\n",
      "epoch:122,lr:1,loss:13.704194068908691\n",
      "epoch:123,lr:1,loss:13.618704795837402\n",
      "epoch:124,lr:1,loss:13.535232543945312\n",
      "epoch:125,lr:1,loss:13.453728675842285\n",
      "epoch:126,lr:1,loss:13.374112129211426\n",
      "epoch:127,lr:1,loss:13.296333312988281\n",
      "epoch:128,lr:1,loss:13.220320701599121\n",
      "epoch:129,lr:1,loss:13.146032333374023\n",
      "epoch:130,lr:1,loss:13.073412895202637\n",
      "epoch:131,lr:1,loss:13.002409934997559\n",
      "epoch:132,lr:1,loss:12.93298053741455\n",
      "epoch:133,lr:1,loss:12.865065574645996\n",
      "epoch:134,lr:1,loss:12.798632621765137\n",
      "epoch:135,lr:1,loss:12.733623504638672\n",
      "epoch:136,lr:1,loss:12.670007705688477\n",
      "epoch:137,lr:1,loss:12.607739448547363\n",
      "epoch:138,lr:1,loss:12.546783447265625\n",
      "epoch:139,lr:1,loss:12.487095832824707\n",
      "epoch:140,lr:1,loss:12.428648948669434\n",
      "epoch:141,lr:1,loss:12.371403694152832\n",
      "epoch:142,lr:1,loss:12.315324783325195\n",
      "epoch:143,lr:1,loss:12.260383605957031\n",
      "epoch:144,lr:1,loss:12.206549644470215\n",
      "epoch:145,lr:1,loss:12.15378189086914\n",
      "epoch:146,lr:1,loss:12.102066993713379\n",
      "epoch:147,lr:1,loss:12.051363945007324\n",
      "epoch:148,lr:1,loss:12.001648902893066\n",
      "epoch:149,lr:1,loss:11.95290470123291\n",
      "epoch:150,lr:1,loss:11.905097007751465\n",
      "epoch:151,lr:1,loss:11.858200073242188\n",
      "epoch:152,lr:1,loss:11.812192916870117\n",
      "epoch:153,lr:1,loss:11.767060279846191\n",
      "epoch:154,lr:1,loss:11.722762107849121\n",
      "epoch:155,lr:1,loss:11.67929458618164\n",
      "epoch:156,lr:1,loss:11.63662338256836\n",
      "epoch:157,lr:1,loss:11.59473991394043\n",
      "epoch:158,lr:1,loss:11.553619384765625\n",
      "epoch:159,lr:1,loss:11.5132417678833\n",
      "epoch:160,lr:1,loss:11.473587036132812\n",
      "epoch:161,lr:1,loss:11.434647560119629\n",
      "epoch:162,lr:1,loss:11.396394729614258\n",
      "epoch:163,lr:1,loss:11.358821868896484\n",
      "epoch:164,lr:1,loss:11.321903228759766\n",
      "epoch:165,lr:1,loss:11.285626411437988\n",
      "epoch:166,lr:1,loss:11.249978065490723\n",
      "epoch:167,lr:1,loss:11.214943885803223\n",
      "epoch:168,lr:1,loss:11.180511474609375\n",
      "epoch:169,lr:1,loss:11.14665699005127\n",
      "epoch:170,lr:1,loss:11.113374710083008\n",
      "epoch:171,lr:1,loss:11.08065414428711\n",
      "epoch:172,lr:1,loss:11.048481941223145\n",
      "epoch:173,lr:1,loss:11.016839027404785\n",
      "epoch:174,lr:1,loss:10.98572063446045\n",
      "epoch:175,lr:1,loss:10.95511245727539\n",
      "epoch:176,lr:1,loss:10.92500114440918\n",
      "epoch:177,lr:1,loss:10.895380973815918\n",
      "epoch:178,lr:1,loss:10.866236686706543\n",
      "epoch:179,lr:1,loss:10.837553977966309\n",
      "epoch:180,lr:1,loss:10.809334754943848\n",
      "epoch:181,lr:1,loss:10.781560897827148\n",
      "epoch:182,lr:1,loss:10.75422191619873\n",
      "epoch:183,lr:1,loss:10.727313041687012\n",
      "epoch:184,lr:1,loss:10.700824737548828\n",
      "epoch:185,lr:1,loss:10.6747465133667\n",
      "epoch:186,lr:1,loss:10.649064064025879\n",
      "epoch:187,lr:1,loss:10.623785018920898\n",
      "epoch:188,lr:1,loss:10.59887981414795\n",
      "epoch:189,lr:1,loss:10.574363708496094\n",
      "epoch:190,lr:1,loss:10.55020809173584\n",
      "epoch:191,lr:1,loss:10.526421546936035\n",
      "epoch:192,lr:1,loss:10.502986907958984\n",
      "epoch:193,lr:1,loss:10.479901313781738\n",
      "epoch:194,lr:1,loss:10.457159996032715\n",
      "epoch:195,lr:1,loss:10.434745788574219\n",
      "epoch:196,lr:1,loss:10.412663459777832\n",
      "epoch:197,lr:1,loss:10.39090347290039\n",
      "epoch:198,lr:1,loss:10.369461059570312\n",
      "epoch:199,lr:1,loss:10.348321914672852\n",
      "epoch:200,lr:1,loss:10.327486991882324\n",
      "epoch:201,lr:1,loss:10.306952476501465\n",
      "epoch:202,lr:1,loss:10.286704063415527\n",
      "epoch:203,lr:1,loss:10.26674747467041\n",
      "epoch:204,lr:1,loss:10.247069358825684\n",
      "epoch:205,lr:1,loss:10.227666854858398\n",
      "epoch:206,lr:1,loss:10.20853328704834\n",
      "epoch:207,lr:1,loss:10.189665794372559\n",
      "epoch:208,lr:1,loss:10.171058654785156\n",
      "epoch:209,lr:1,loss:10.15270709991455\n",
      "epoch:210,lr:1,loss:10.134604454040527\n",
      "epoch:211,lr:1,loss:10.116753578186035\n",
      "epoch:212,lr:1,loss:10.099139213562012\n",
      "epoch:213,lr:1,loss:10.081767082214355\n",
      "epoch:214,lr:1,loss:10.064623832702637\n",
      "epoch:215,lr:1,loss:10.047709465026855\n",
      "epoch:216,lr:1,loss:10.031022071838379\n",
      "epoch:217,lr:1,loss:10.014554023742676\n",
      "epoch:218,lr:1,loss:9.998306274414062\n",
      "epoch:219,lr:1,loss:9.98227310180664\n",
      "epoch:220,lr:1,loss:9.966444969177246\n",
      "epoch:221,lr:1,loss:9.950825691223145\n",
      "epoch:222,lr:1,loss:9.935403823852539\n",
      "epoch:223,lr:1,loss:9.920187950134277\n",
      "epoch:224,lr:1,loss:9.90516185760498\n",
      "epoch:225,lr:1,loss:9.890332221984863\n",
      "epoch:226,lr:1,loss:9.875690460205078\n",
      "epoch:227,lr:1,loss:9.861231803894043\n",
      "epoch:228,lr:1,loss:9.84695816040039\n",
      "epoch:229,lr:1,loss:9.832865715026855\n",
      "epoch:230,lr:1,loss:9.81894588470459\n",
      "epoch:231,lr:1,loss:9.805201530456543\n",
      "epoch:232,lr:1,loss:9.791629791259766\n",
      "epoch:233,lr:1,loss:9.778227806091309\n",
      "epoch:234,lr:1,loss:9.764989852905273\n",
      "epoch:235,lr:1,loss:9.751914024353027\n",
      "epoch:236,lr:1,loss:9.738992691040039\n",
      "epoch:237,lr:1,loss:9.726234436035156\n",
      "epoch:238,lr:1,loss:9.713631629943848\n",
      "epoch:239,lr:1,loss:9.701180458068848\n",
      "epoch:240,lr:1,loss:9.688878059387207\n",
      "epoch:241,lr:1,loss:9.67672348022461\n",
      "epoch:242,lr:1,loss:9.664712905883789\n"
     ]
    },
    {
     "name": "stdout",
     "output_type": "stream",
     "text": [
      "epoch:243,lr:1,loss:9.652846336364746\n",
      "epoch:244,lr:1,loss:9.641124725341797\n",
      "epoch:245,lr:1,loss:9.629534721374512\n",
      "epoch:246,lr:1,loss:9.618086814880371\n",
      "epoch:247,lr:1,loss:9.606769561767578\n",
      "epoch:248,lr:1,loss:9.595587730407715\n",
      "epoch:249,lr:1,loss:9.58453369140625\n",
      "epoch:250,lr:1,loss:9.5736083984375\n",
      "epoch:251,lr:1,loss:9.562809944152832\n",
      "epoch:252,lr:1,loss:9.552139282226562\n",
      "epoch:253,lr:1,loss:9.541584014892578\n",
      "epoch:254,lr:1,loss:9.53115177154541\n",
      "epoch:255,lr:1,loss:9.520841598510742\n",
      "epoch:256,lr:1,loss:9.510648727416992\n",
      "epoch:257,lr:1,loss:9.500565528869629\n",
      "epoch:258,lr:1,loss:9.49060344696045\n",
      "epoch:259,lr:1,loss:9.480746269226074\n",
      "epoch:260,lr:1,loss:9.471002578735352\n",
      "epoch:261,lr:1,loss:9.461369514465332\n",
      "epoch:262,lr:1,loss:9.451842308044434\n",
      "epoch:263,lr:1,loss:9.442420959472656\n",
      "epoch:264,lr:1,loss:9.433101654052734\n",
      "epoch:265,lr:1,loss:9.4238862991333\n",
      "epoch:266,lr:1,loss:9.414773941040039\n",
      "epoch:267,lr:1,loss:9.405755996704102\n",
      "epoch:268,lr:1,loss:9.396841049194336\n",
      "epoch:269,lr:1,loss:9.388020515441895\n",
      "epoch:270,lr:1,loss:9.379295349121094\n",
      "epoch:271,lr:1,loss:9.370665550231934\n",
      "epoch:272,lr:1,loss:9.362129211425781\n",
      "epoch:273,lr:1,loss:9.353687286376953\n",
      "epoch:274,lr:1,loss:9.345329284667969\n",
      "epoch:275,lr:1,loss:9.337061882019043\n",
      "epoch:276,lr:1,loss:9.32888412475586\n",
      "epoch:277,lr:1,loss:9.320791244506836\n",
      "epoch:278,lr:1,loss:9.312786102294922\n",
      "epoch:279,lr:1,loss:9.3048677444458\n",
      "epoch:280,lr:1,loss:9.297029495239258\n",
      "epoch:281,lr:1,loss:9.28926944732666\n",
      "epoch:282,lr:1,loss:9.281595230102539\n",
      "epoch:283,lr:1,loss:9.273998260498047\n",
      "epoch:284,lr:1,loss:9.266478538513184\n",
      "epoch:285,lr:1,loss:9.259037971496582\n",
      "epoch:286,lr:1,loss:9.25167465209961\n",
      "epoch:287,lr:1,loss:9.244385719299316\n",
      "epoch:288,lr:1,loss:9.237174034118652\n",
      "epoch:289,lr:1,loss:9.230035781860352\n",
      "epoch:290,lr:1,loss:9.222969055175781\n",
      "epoch:291,lr:1,loss:9.215972900390625\n",
      "epoch:292,lr:1,loss:9.209049224853516\n",
      "epoch:293,lr:1,loss:9.202198028564453\n",
      "epoch:294,lr:1,loss:9.195406913757324\n",
      "epoch:295,lr:1,loss:9.188690185546875\n",
      "epoch:296,lr:1,loss:9.18204116821289\n",
      "epoch:297,lr:1,loss:9.175456047058105\n",
      "epoch:298,lr:1,loss:9.168940544128418\n",
      "epoch:299,lr:1,loss:9.16248607635498\n",
      "epoch:300,lr:1,loss:9.15610122680664\n",
      "epoch:301,lr:1,loss:9.14977741241455\n",
      "epoch:302,lr:1,loss:9.143518447875977\n",
      "epoch:303,lr:1,loss:9.137324333190918\n",
      "epoch:304,lr:1,loss:9.13119125366211\n",
      "epoch:305,lr:1,loss:9.125127792358398\n",
      "epoch:306,lr:1,loss:9.119129180908203\n",
      "epoch:307,lr:1,loss:9.113198280334473\n",
      "epoch:308,lr:1,loss:9.107349395751953\n",
      "epoch:309,lr:1,loss:9.101580619812012\n",
      "epoch:310,lr:1,loss:9.095911979675293\n",
      "epoch:311,lr:1,loss:9.090362548828125\n",
      "epoch:312,lr:1,loss:9.084957122802734\n",
      "epoch:313,lr:1,loss:9.079751968383789\n",
      "epoch:314,lr:1,loss:9.07481575012207\n",
      "epoch:315,lr:1,loss:9.070268630981445\n",
      "epoch:316,lr:1,loss:9.066295623779297\n",
      "epoch:317,lr:1,loss:9.063149452209473\n",
      "epoch:318,lr:1,loss:9.061301231384277\n",
      "epoch:319,lr:1,loss:9.06134033203125\n",
      "epoch:320,lr:1,loss:9.064430236816406\n",
      "epoch:321,lr:1,loss:9.071844100952148\n",
      "epoch:322,lr:1,loss:9.08638858795166\n",
      "epoch:323,lr:1,loss:9.110370635986328\n",
      "epoch:324,lr:1,loss:9.150076866149902\n",
      "epoch:325,lr:1,loss:9.20731258392334\n",
      "epoch:326,lr:1,loss:9.293757438659668\n",
      "epoch:327,lr:1,loss:9.40005111694336\n",
      "epoch:328,lr:1,loss:9.543511390686035\n",
      "epoch:329,lr:1,loss:9.677689552307129\n",
      "epoch:330,lr:1,loss:9.8396635055542\n",
      "epoch:331,lr:1,loss:9.933688163757324\n",
      "epoch:332,lr:1,loss:10.059660911560059\n",
      "epoch:333,lr:1,loss:10.083210945129395\n",
      "epoch:334,lr:1,loss:10.169919967651367\n",
      "epoch:335,lr:1,loss:10.14851188659668\n",
      "epoch:336,lr:1,loss:10.216448783874512\n",
      "epoch:337,lr:1,loss:10.176047325134277\n",
      "epoch:338,lr:1,loss:10.237930297851562\n",
      "epoch:339,lr:1,loss:10.190291404724121\n",
      "epoch:340,lr:1,loss:10.25107479095459\n",
      "epoch:341,lr:1,loss:10.200281143188477\n",
      "epoch:342,lr:1,loss:10.261521339416504\n",
      "epoch:343,lr:1,loss:10.208883285522461\n",
      "epoch:344,lr:1,loss:10.27111530303955\n",
      "epoch:345,lr:1,loss:10.217012405395508\n",
      "epoch:346,lr:1,loss:10.28036880493164\n",
      "epoch:347,lr:1,loss:10.224930763244629\n",
      "epoch:348,lr:1,loss:10.289437294006348\n",
      "epoch:349,lr:1,loss:10.232690811157227\n",
      "epoch:350,lr:1,loss:10.298361778259277\n",
      "epoch:351,lr:1,loss:10.24033260345459\n",
      "epoch:352,lr:1,loss:10.307169914245605\n",
      "epoch:353,lr:1,loss:10.247870445251465\n",
      "epoch:354,lr:1,loss:10.315881729125977\n",
      "epoch:355,lr:1,loss:10.255314826965332\n",
      "epoch:356,lr:1,loss:10.324477195739746\n",
      "epoch:357,lr:1,loss:10.262651443481445\n",
      "epoch:358,lr:1,loss:10.33298397064209\n",
      "epoch:359,lr:1,loss:10.269892692565918\n",
      "epoch:360,lr:1,loss:10.341374397277832\n",
      "epoch:361,lr:1,loss:10.277032852172852\n",
      "epoch:362,lr:1,loss:10.349665641784668\n",
      "epoch:363,lr:1,loss:10.284083366394043\n",
      "epoch:364,lr:1,loss:10.357853889465332\n",
      "epoch:365,lr:1,loss:10.291034698486328\n",
      "epoch:366,lr:1,loss:10.365955352783203\n",
      "epoch:367,lr:1,loss:10.297900199890137\n",
      "epoch:368,lr:1,loss:10.373950004577637\n",
      "epoch:369,lr:1,loss:10.304671287536621\n",
      "epoch:370,lr:1,loss:10.381866455078125\n",
      "epoch:371,lr:1,loss:10.31137466430664\n",
      "epoch:372,lr:1,loss:10.389707565307617\n",
      "epoch:373,lr:1,loss:10.317985534667969\n",
      "epoch:374,lr:1,loss:10.39743709564209\n",
      "epoch:375,lr:1,loss:10.324507713317871\n",
      "epoch:376,lr:1,loss:10.40506649017334\n",
      "epoch:377,lr:1,loss:10.330941200256348\n",
      "epoch:378,lr:1,loss:10.412629127502441\n",
      "epoch:379,lr:1,loss:10.337308883666992\n",
      "epoch:380,lr:1,loss:10.420093536376953\n",
      "epoch:381,lr:1,loss:10.343581199645996\n",
      "epoch:382,lr:1,loss:10.427474975585938\n",
      "epoch:383,lr:1,loss:10.3497896194458\n",
      "epoch:384,lr:1,loss:10.434785842895508\n",
      "epoch:385,lr:1,loss:10.355916976928711\n",
      "epoch:386,lr:1,loss:10.442007064819336\n",
      "epoch:387,lr:1,loss:10.36197566986084\n",
      "epoch:388,lr:1,loss:10.449173927307129\n",
      "epoch:389,lr:1,loss:10.367969512939453\n",
      "epoch:390,lr:1,loss:10.456231117248535\n",
      "epoch:391,lr:1,loss:10.37387752532959\n",
      "epoch:392,lr:1,loss:10.463227272033691\n",
      "epoch:393,lr:1,loss:10.379714965820312\n",
      "epoch:394,lr:1,loss:10.470141410827637\n",
      "epoch:395,lr:1,loss:10.385493278503418\n",
      "epoch:396,lr:1,loss:10.477005004882812\n",
      "epoch:397,lr:1,loss:10.391200065612793\n",
      "epoch:398,lr:1,loss:10.48376178741455\n",
      "epoch:399,lr:1,loss:10.396839141845703\n",
      "epoch:400,lr:1,loss:10.490462303161621\n",
      "epoch:401,lr:1,loss:10.402411460876465\n",
      "epoch:402,lr:1,loss:10.497097969055176\n",
      "epoch:403,lr:1,loss:10.407933235168457\n",
      "epoch:404,lr:1,loss:10.50366497039795\n",
      "epoch:405,lr:1,loss:10.413372993469238\n",
      "epoch:406,lr:1,loss:10.510152816772461\n",
      "epoch:407,lr:1,loss:10.4187593460083\n",
      "epoch:408,lr:1,loss:10.516575813293457\n",
      "epoch:409,lr:1,loss:10.424077987670898\n",
      "epoch:410,lr:1,loss:10.522915840148926\n",
      "epoch:411,lr:1,loss:10.429332733154297\n",
      "epoch:412,lr:1,loss:10.529217720031738\n",
      "epoch:413,lr:1,loss:10.43454647064209\n",
      "epoch:414,lr:1,loss:10.535468101501465\n",
      "epoch:415,lr:1,loss:10.439708709716797\n",
      "epoch:416,lr:1,loss:10.541626930236816\n",
      "epoch:417,lr:1,loss:10.444788932800293\n",
      "epoch:418,lr:1,loss:10.547723770141602\n",
      "epoch:419,lr:1,loss:10.449819564819336\n",
      "epoch:420,lr:1,loss:10.553764343261719\n",
      "epoch:421,lr:1,loss:10.45479965209961\n",
      "epoch:422,lr:1,loss:10.559747695922852\n",
      "epoch:423,lr:1,loss:10.459725379943848\n",
      "epoch:424,lr:1,loss:10.56567096710205\n",
      "epoch:425,lr:1,loss:10.46459674835205\n",
      "epoch:426,lr:1,loss:10.571544647216797\n",
      "epoch:427,lr:1,loss:10.46942138671875\n",
      "epoch:428,lr:1,loss:10.577345848083496\n",
      "epoch:429,lr:1,loss:10.474180221557617\n",
      "epoch:430,lr:1,loss:10.583073616027832\n",
      "epoch:431,lr:1,loss:10.478890419006348\n",
      "epoch:432,lr:1,loss:10.588773727416992\n",
      "epoch:433,lr:1,loss:10.483552932739258\n",
      "epoch:434,lr:1,loss:10.594399452209473\n",
      "epoch:435,lr:1,loss:10.488165855407715\n",
      "epoch:436,lr:1,loss:10.599984169006348\n",
      "epoch:437,lr:1,loss:10.492729187011719\n",
      "epoch:438,lr:1,loss:10.605494499206543\n",
      "epoch:439,lr:1,loss:10.49724292755127\n",
      "epoch:440,lr:1,loss:10.610979080200195\n",
      "epoch:441,lr:1,loss:10.501720428466797\n",
      "epoch:442,lr:1,loss:10.616401672363281\n",
      "epoch:443,lr:1,loss:10.506156921386719\n",
      "epoch:444,lr:1,loss:10.62177848815918\n",
      "epoch:445,lr:1,loss:10.51052188873291\n",
      "epoch:446,lr:1,loss:10.627076148986816\n",
      "epoch:447,lr:1,loss:10.514851570129395\n",
      "epoch:448,lr:1,loss:10.632354736328125\n",
      "epoch:449,lr:1,loss:10.51915168762207\n",
      "epoch:450,lr:1,loss:10.637585639953613\n",
      "epoch:451,lr:1,loss:10.523396492004395\n",
      "epoch:452,lr:1,loss:10.64273738861084\n",
      "epoch:453,lr:1,loss:10.527589797973633\n",
      "epoch:454,lr:1,loss:10.647851943969727\n",
      "epoch:455,lr:1,loss:10.531742095947266\n",
      "epoch:456,lr:1,loss:10.652926445007324\n"
     ]
    },
    {
     "name": "stdout",
     "output_type": "stream",
     "text": [
      "epoch:457,lr:1,loss:10.535860061645508\n",
      "epoch:458,lr:1,loss:10.657929420471191\n",
      "epoch:459,lr:1,loss:10.539916038513184\n",
      "epoch:460,lr:1,loss:10.662890434265137\n",
      "epoch:461,lr:1,loss:10.54394817352295\n",
      "epoch:462,lr:1,loss:10.667826652526855\n",
      "epoch:463,lr:1,loss:10.547944068908691\n",
      "epoch:464,lr:1,loss:10.672720909118652\n",
      "epoch:465,lr:1,loss:10.551900863647461\n",
      "epoch:466,lr:1,loss:10.677557945251465\n",
      "epoch:467,lr:1,loss:10.555815696716309\n",
      "epoch:468,lr:1,loss:10.682360649108887\n",
      "epoch:469,lr:1,loss:10.559691429138184\n",
      "epoch:470,lr:1,loss:10.687106132507324\n",
      "epoch:471,lr:1,loss:10.563517570495605\n",
      "epoch:472,lr:1,loss:10.69179630279541\n",
      "epoch:473,lr:1,loss:10.56730842590332\n",
      "epoch:474,lr:1,loss:10.696468353271484\n",
      "epoch:475,lr:1,loss:10.571078300476074\n",
      "epoch:476,lr:1,loss:10.701087951660156\n",
      "epoch:477,lr:1,loss:10.574795722961426\n",
      "epoch:478,lr:1,loss:10.705658912658691\n",
      "epoch:479,lr:1,loss:10.57847785949707\n",
      "epoch:480,lr:1,loss:10.710201263427734\n",
      "epoch:481,lr:1,loss:10.582131385803223\n",
      "epoch:482,lr:1,loss:10.714683532714844\n",
      "epoch:483,lr:1,loss:10.585741996765137\n",
      "epoch:484,lr:1,loss:10.719152450561523\n",
      "epoch:485,lr:1,loss:10.589324951171875\n",
      "epoch:486,lr:1,loss:10.723557472229004\n",
      "epoch:487,lr:1,loss:10.592872619628906\n",
      "epoch:488,lr:1,loss:10.727951049804688\n",
      "epoch:489,lr:1,loss:10.596390724182129\n",
      "epoch:490,lr:1,loss:10.732279777526855\n",
      "epoch:491,lr:1,loss:10.599852561950684\n",
      "epoch:492,lr:1,loss:10.736557006835938\n",
      "epoch:493,lr:1,loss:10.603292465209961\n",
      "epoch:494,lr:1,loss:10.740827560424805\n",
      "epoch:495,lr:1,loss:10.606709480285645\n",
      "epoch:496,lr:1,loss:10.74504280090332\n",
      "epoch:497,lr:1,loss:10.610089302062988\n",
      "epoch:498,lr:1,loss:10.74924087524414\n",
      "epoch:499,lr:1,loss:10.613436698913574\n",
      "epoch:500,lr:1,loss:10.753364562988281\n",
      "epoch:501,lr:1,loss:10.616743087768555\n",
      "epoch:502,lr:1,loss:10.757492065429688\n",
      "epoch:503,lr:1,loss:10.62003231048584\n",
      "epoch:504,lr:1,loss:10.76155948638916\n",
      "epoch:505,lr:1,loss:10.623283386230469\n",
      "epoch:506,lr:1,loss:10.765600204467773\n",
      "epoch:507,lr:1,loss:10.626504898071289\n",
      "epoch:508,lr:1,loss:10.769601821899414\n",
      "epoch:509,lr:1,loss:10.629695892333984\n",
      "epoch:510,lr:1,loss:10.773576736450195\n",
      "epoch:511,lr:1,loss:10.632863998413086\n",
      "epoch:512,lr:1,loss:10.777508735656738\n",
      "epoch:513,lr:1,loss:10.635986328125\n",
      "epoch:514,lr:1,loss:10.781405448913574\n",
      "epoch:515,lr:1,loss:10.639100074768066\n",
      "epoch:516,lr:1,loss:10.7852783203125\n",
      "epoch:517,lr:1,loss:10.642173767089844\n",
      "epoch:518,lr:1,loss:10.78911018371582\n",
      "epoch:519,lr:1,loss:10.645222663879395\n",
      "epoch:520,lr:1,loss:10.792912483215332\n",
      "epoch:521,lr:1,loss:10.648246765136719\n",
      "epoch:522,lr:1,loss:10.796682357788086\n",
      "epoch:523,lr:1,loss:10.651228904724121\n",
      "epoch:524,lr:1,loss:10.80040168762207\n",
      "epoch:525,lr:1,loss:10.65418529510498\n",
      "epoch:526,lr:1,loss:10.804108619689941\n",
      "epoch:527,lr:1,loss:10.657137870788574\n",
      "epoch:528,lr:1,loss:10.80778980255127\n",
      "epoch:529,lr:1,loss:10.6600341796875\n",
      "epoch:530,lr:1,loss:10.811410903930664\n",
      "epoch:531,lr:1,loss:10.662911415100098\n",
      "epoch:532,lr:1,loss:10.815009117126465\n",
      "epoch:533,lr:1,loss:10.665759086608887\n",
      "epoch:534,lr:1,loss:10.818594932556152\n",
      "epoch:535,lr:1,loss:10.668604850769043\n",
      "epoch:536,lr:1,loss:10.822153091430664\n",
      "epoch:537,lr:1,loss:10.671414375305176\n",
      "epoch:538,lr:1,loss:10.825678825378418\n",
      "epoch:539,lr:1,loss:10.67419719696045\n",
      "epoch:540,lr:1,loss:10.829147338867188\n",
      "epoch:541,lr:1,loss:10.676944732666016\n",
      "epoch:542,lr:1,loss:10.832635879516602\n",
      "epoch:543,lr:1,loss:10.6796875\n",
      "epoch:544,lr:1,loss:10.836044311523438\n",
      "epoch:545,lr:1,loss:10.68238639831543\n",
      "epoch:546,lr:1,loss:10.839448928833008\n",
      "epoch:547,lr:1,loss:10.685072898864746\n",
      "epoch:548,lr:1,loss:10.842826843261719\n",
      "epoch:549,lr:1,loss:10.68773078918457\n",
      "epoch:550,lr:1,loss:10.846181869506836\n",
      "epoch:551,lr:1,loss:10.690375328063965\n",
      "epoch:552,lr:1,loss:10.849486351013184\n",
      "epoch:553,lr:1,loss:10.692976951599121\n",
      "epoch:554,lr:1,loss:10.852777481079102\n",
      "epoch:555,lr:1,loss:10.695565223693848\n",
      "epoch:556,lr:1,loss:10.856029510498047\n",
      "epoch:557,lr:1,loss:10.698116302490234\n",
      "epoch:558,lr:1,loss:10.859247207641602\n",
      "epoch:559,lr:1,loss:10.700671195983887\n",
      "epoch:560,lr:1,loss:10.862483978271484\n",
      "epoch:561,lr:1,loss:10.70319652557373\n",
      "epoch:562,lr:1,loss:10.865674018859863\n",
      "epoch:563,lr:1,loss:10.705699920654297\n",
      "epoch:564,lr:1,loss:10.868816375732422\n",
      "epoch:565,lr:1,loss:10.708175659179688\n",
      "epoch:566,lr:1,loss:10.871950149536133\n",
      "epoch:567,lr:1,loss:10.710627555847168\n",
      "epoch:568,lr:1,loss:10.875056266784668\n",
      "epoch:569,lr:1,loss:10.713057518005371\n",
      "epoch:570,lr:1,loss:10.878114700317383\n",
      "epoch:571,lr:1,loss:10.715472221374512\n",
      "epoch:572,lr:1,loss:10.881192207336426\n",
      "epoch:573,lr:1,loss:10.717875480651855\n",
      "epoch:574,lr:1,loss:10.884221076965332\n",
      "epoch:575,lr:1,loss:10.72024917602539\n",
      "epoch:576,lr:1,loss:10.887232780456543\n",
      "epoch:577,lr:1,loss:10.7225980758667\n",
      "epoch:578,lr:1,loss:10.890212059020996\n",
      "epoch:579,lr:1,loss:10.724930763244629\n",
      "epoch:580,lr:1,loss:10.89315414428711\n",
      "epoch:581,lr:1,loss:10.72723388671875\n",
      "epoch:582,lr:1,loss:10.896084785461426\n",
      "epoch:583,lr:1,loss:10.729525566101074\n",
      "epoch:584,lr:1,loss:10.898995399475098\n",
      "epoch:585,lr:1,loss:10.731800079345703\n",
      "epoch:586,lr:1,loss:10.901886940002441\n",
      "epoch:587,lr:1,loss:10.734049797058105\n",
      "epoch:588,lr:1,loss:10.904747009277344\n",
      "epoch:589,lr:1,loss:10.736294746398926\n",
      "epoch:590,lr:1,loss:10.907586097717285\n",
      "epoch:591,lr:1,loss:10.738494873046875\n",
      "epoch:592,lr:1,loss:10.910384178161621\n",
      "epoch:593,lr:1,loss:10.740691184997559\n",
      "epoch:594,lr:1,loss:10.913192749023438\n",
      "epoch:595,lr:1,loss:10.742870330810547\n",
      "epoch:596,lr:1,loss:10.915948867797852\n",
      "epoch:597,lr:1,loss:10.745026588439941\n",
      "epoch:598,lr:1,loss:10.918715476989746\n",
      "epoch:599,lr:1,loss:10.747180938720703\n",
      "epoch:600,lr:1,loss:10.92143726348877\n",
      "epoch:601,lr:1,loss:10.749296188354492\n",
      "epoch:602,lr:1,loss:10.924152374267578\n",
      "epoch:603,lr:1,loss:10.751401901245117\n",
      "epoch:604,lr:1,loss:10.9268217086792\n",
      "epoch:605,lr:1,loss:10.753483772277832\n",
      "epoch:606,lr:1,loss:10.92949104309082\n",
      "epoch:607,lr:1,loss:10.755555152893066\n",
      "epoch:608,lr:1,loss:10.932116508483887\n",
      "epoch:609,lr:1,loss:10.757596015930176\n",
      "epoch:610,lr:1,loss:10.93474292755127\n",
      "epoch:611,lr:1,loss:10.759634017944336\n",
      "epoch:612,lr:1,loss:10.937335014343262\n",
      "epoch:613,lr:1,loss:10.761656761169434\n",
      "epoch:614,lr:1,loss:10.93991470336914\n",
      "epoch:615,lr:1,loss:10.763655662536621\n",
      "epoch:616,lr:1,loss:10.942481994628906\n",
      "epoch:617,lr:1,loss:10.765643119812012\n",
      "epoch:618,lr:1,loss:10.945014953613281\n",
      "epoch:619,lr:1,loss:10.767607688903809\n",
      "epoch:620,lr:1,loss:10.947538375854492\n",
      "epoch:621,lr:1,loss:10.769559860229492\n",
      "epoch:622,lr:1,loss:10.95003604888916\n",
      "epoch:623,lr:1,loss:10.771490097045898\n",
      "epoch:624,lr:1,loss:10.952502250671387\n",
      "epoch:625,lr:1,loss:10.773411750793457\n",
      "epoch:626,lr:1,loss:10.954964637756348\n",
      "epoch:627,lr:1,loss:10.775312423706055\n",
      "epoch:628,lr:1,loss:10.957414627075195\n",
      "epoch:629,lr:1,loss:10.777207374572754\n",
      "epoch:630,lr:1,loss:10.959829330444336\n",
      "epoch:631,lr:1,loss:10.779077529907227\n",
      "epoch:632,lr:1,loss:10.962230682373047\n",
      "epoch:633,lr:1,loss:10.780926704406738\n",
      "epoch:634,lr:1,loss:10.964598655700684\n",
      "epoch:635,lr:1,loss:10.782774925231934\n",
      "epoch:636,lr:1,loss:10.9669828414917\n",
      "epoch:637,lr:1,loss:10.784602165222168\n",
      "epoch:638,lr:1,loss:10.969313621520996\n",
      "epoch:639,lr:1,loss:10.786410331726074\n",
      "epoch:640,lr:1,loss:10.971650123596191\n",
      "epoch:641,lr:1,loss:10.788211822509766\n",
      "epoch:642,lr:1,loss:10.97397232055664\n",
      "epoch:643,lr:1,loss:10.789999961853027\n",
      "epoch:644,lr:1,loss:10.97627067565918\n",
      "epoch:645,lr:1,loss:10.791765213012695\n",
      "epoch:646,lr:1,loss:10.978535652160645\n",
      "epoch:647,lr:1,loss:10.793513298034668\n",
      "epoch:648,lr:1,loss:10.98078441619873\n",
      "epoch:649,lr:1,loss:10.79525375366211\n",
      "epoch:650,lr:1,loss:10.98301887512207\n",
      "epoch:651,lr:1,loss:10.796976089477539\n",
      "epoch:652,lr:1,loss:10.985248565673828\n",
      "epoch:653,lr:1,loss:10.798691749572754\n",
      "epoch:654,lr:1,loss:10.987442016601562\n",
      "epoch:655,lr:1,loss:10.800373077392578\n",
      "epoch:656,lr:1,loss:10.98963451385498\n",
      "epoch:657,lr:1,loss:10.8020658493042\n",
      "epoch:658,lr:1,loss:10.99181079864502\n",
      "epoch:659,lr:1,loss:10.803733825683594\n",
      "epoch:660,lr:1,loss:10.993950843811035\n",
      "epoch:661,lr:1,loss:10.805377006530762\n",
      "epoch:662,lr:1,loss:10.996078491210938\n",
      "epoch:663,lr:1,loss:10.807025909423828\n",
      "epoch:664,lr:1,loss:10.998208045959473\n",
      "epoch:665,lr:1,loss:10.808658599853516\n",
      "epoch:666,lr:1,loss:11.000303268432617\n",
      "epoch:667,lr:1,loss:10.810264587402344\n",
      "epoch:668,lr:1,loss:11.00239372253418\n",
      "epoch:669,lr:1,loss:10.811872482299805\n",
      "epoch:670,lr:1,loss:11.004467964172363\n",
      "epoch:671,lr:1,loss:10.813468933105469\n",
      "epoch:672,lr:1,loss:11.006548881530762\n",
      "epoch:673,lr:1,loss:10.81505298614502\n",
      "epoch:674,lr:1,loss:11.00857162475586\n",
      "epoch:675,lr:1,loss:10.816606521606445\n",
      "epoch:676,lr:1,loss:11.010589599609375\n",
      "epoch:677,lr:1,loss:10.818160057067871\n",
      "epoch:678,lr:1,loss:11.012613296508789\n",
      "epoch:679,lr:1,loss:10.819706916809082\n",
      "epoch:680,lr:1,loss:11.014599800109863\n",
      "epoch:681,lr:1,loss:10.821224212646484\n"
     ]
    },
    {
     "name": "stdout",
     "output_type": "stream",
     "text": [
      "epoch:682,lr:1,loss:11.016570091247559\n",
      "epoch:683,lr:1,loss:10.822733879089355\n",
      "epoch:684,lr:1,loss:11.018526077270508\n",
      "epoch:685,lr:1,loss:10.824240684509277\n",
      "epoch:686,lr:1,loss:11.020484924316406\n",
      "epoch:687,lr:1,loss:10.825739860534668\n",
      "epoch:688,lr:1,loss:11.022428512573242\n",
      "epoch:689,lr:1,loss:10.827219009399414\n",
      "epoch:690,lr:1,loss:11.024356842041016\n",
      "epoch:691,lr:1,loss:10.828691482543945\n",
      "epoch:692,lr:1,loss:11.02625846862793\n",
      "epoch:693,lr:1,loss:10.830144882202148\n",
      "epoch:694,lr:1,loss:11.028143882751465\n",
      "epoch:695,lr:1,loss:10.831594467163086\n",
      "epoch:696,lr:1,loss:11.030020713806152\n",
      "epoch:697,lr:1,loss:10.83301830291748\n",
      "epoch:698,lr:1,loss:11.031885147094727\n",
      "epoch:699,lr:1,loss:10.83444881439209\n",
      "epoch:700,lr:1,loss:11.033729553222656\n",
      "epoch:701,lr:1,loss:10.835858345031738\n",
      "epoch:702,lr:1,loss:11.035569190979004\n",
      "epoch:703,lr:1,loss:10.837251663208008\n",
      "epoch:704,lr:1,loss:11.037382125854492\n",
      "epoch:705,lr:1,loss:10.838643074035645\n",
      "epoch:706,lr:1,loss:11.03918743133545\n",
      "epoch:707,lr:1,loss:10.840022087097168\n",
      "epoch:708,lr:1,loss:11.04098892211914\n",
      "epoch:709,lr:1,loss:10.841384887695312\n",
      "epoch:710,lr:1,loss:11.042750358581543\n",
      "epoch:711,lr:1,loss:10.842734336853027\n",
      "epoch:712,lr:1,loss:11.044506072998047\n",
      "epoch:713,lr:1,loss:10.844073295593262\n",
      "epoch:714,lr:1,loss:11.04626750946045\n",
      "epoch:715,lr:1,loss:10.845418930053711\n",
      "epoch:716,lr:1,loss:11.04802131652832\n",
      "epoch:717,lr:1,loss:10.846746444702148\n",
      "epoch:718,lr:1,loss:11.049734115600586\n",
      "epoch:719,lr:1,loss:10.848052024841309\n",
      "epoch:720,lr:1,loss:11.051445007324219\n",
      "epoch:721,lr:1,loss:10.849355697631836\n",
      "epoch:722,lr:1,loss:11.053157806396484\n",
      "epoch:723,lr:1,loss:10.850658416748047\n",
      "epoch:724,lr:1,loss:11.054841995239258\n",
      "epoch:725,lr:1,loss:10.85193157196045\n",
      "epoch:726,lr:1,loss:11.056509971618652\n",
      "epoch:727,lr:1,loss:10.853209495544434\n",
      "epoch:728,lr:1,loss:11.058180809020996\n",
      "epoch:729,lr:1,loss:10.854469299316406\n",
      "epoch:730,lr:1,loss:11.059836387634277\n",
      "epoch:731,lr:1,loss:10.855734825134277\n",
      "epoch:732,lr:1,loss:11.061470985412598\n",
      "epoch:733,lr:1,loss:10.856964111328125\n",
      "epoch:734,lr:1,loss:11.063080787658691\n",
      "epoch:735,lr:1,loss:10.858195304870605\n",
      "epoch:736,lr:1,loss:11.064703941345215\n",
      "epoch:737,lr:1,loss:10.859419822692871\n",
      "epoch:738,lr:1,loss:11.066298484802246\n",
      "epoch:739,lr:1,loss:10.860645294189453\n",
      "epoch:740,lr:1,loss:11.06789493560791\n",
      "epoch:741,lr:1,loss:10.861844062805176\n",
      "epoch:742,lr:1,loss:11.069463729858398\n",
      "epoch:743,lr:1,loss:10.863030433654785\n",
      "epoch:744,lr:1,loss:11.071028709411621\n",
      "epoch:745,lr:1,loss:10.86422348022461\n",
      "epoch:746,lr:1,loss:11.072571754455566\n",
      "epoch:747,lr:1,loss:10.865400314331055\n",
      "epoch:748,lr:1,loss:11.074139595031738\n",
      "epoch:749,lr:1,loss:10.866578102111816\n",
      "epoch:750,lr:1,loss:11.075658798217773\n",
      "epoch:751,lr:1,loss:10.867724418640137\n",
      "epoch:752,lr:1,loss:11.077181816101074\n",
      "epoch:753,lr:1,loss:10.86888599395752\n",
      "epoch:754,lr:1,loss:11.078697204589844\n",
      "epoch:755,lr:1,loss:10.87001895904541\n",
      "epoch:756,lr:1,loss:11.08017349243164\n",
      "epoch:757,lr:1,loss:10.87114429473877\n",
      "epoch:758,lr:1,loss:11.081664085388184\n",
      "epoch:759,lr:1,loss:10.872276306152344\n",
      "epoch:760,lr:1,loss:11.083144187927246\n",
      "epoch:761,lr:1,loss:10.87338924407959\n",
      "epoch:762,lr:1,loss:11.084609031677246\n",
      "epoch:763,lr:1,loss:10.874496459960938\n",
      "epoch:764,lr:1,loss:11.086065292358398\n",
      "epoch:765,lr:1,loss:10.875594139099121\n",
      "epoch:766,lr:1,loss:11.087503433227539\n",
      "epoch:767,lr:1,loss:10.87668514251709\n",
      "epoch:768,lr:1,loss:11.088932991027832\n",
      "epoch:769,lr:1,loss:10.877763748168945\n",
      "epoch:770,lr:1,loss:11.09034538269043\n",
      "epoch:771,lr:1,loss:10.878828048706055\n",
      "epoch:772,lr:1,loss:11.09175968170166\n",
      "epoch:773,lr:1,loss:10.879899024963379\n",
      "epoch:774,lr:1,loss:11.093154907226562\n",
      "epoch:775,lr:1,loss:10.880940437316895\n",
      "epoch:776,lr:1,loss:11.094545364379883\n",
      "epoch:777,lr:1,loss:10.882003784179688\n",
      "epoch:778,lr:1,loss:11.095935821533203\n",
      "epoch:779,lr:1,loss:10.883037567138672\n",
      "epoch:780,lr:1,loss:11.097288131713867\n",
      "epoch:781,lr:1,loss:10.884073257446289\n",
      "epoch:782,lr:1,loss:11.098650932312012\n",
      "epoch:783,lr:1,loss:10.885087966918945\n",
      "epoch:784,lr:1,loss:11.099974632263184\n",
      "epoch:785,lr:1,loss:10.886088371276855\n",
      "epoch:786,lr:1,loss:11.101336479187012\n",
      "epoch:787,lr:1,loss:10.887123107910156\n",
      "epoch:788,lr:1,loss:11.102676391601562\n",
      "epoch:789,lr:1,loss:10.888123512268066\n",
      "epoch:790,lr:1,loss:11.103998184204102\n",
      "epoch:791,lr:1,loss:10.889113426208496\n",
      "epoch:792,lr:1,loss:11.105300903320312\n",
      "epoch:793,lr:1,loss:10.890097618103027\n",
      "epoch:794,lr:1,loss:11.106595039367676\n",
      "epoch:795,lr:1,loss:10.891068458557129\n",
      "epoch:796,lr:1,loss:11.107882499694824\n",
      "epoch:797,lr:1,loss:10.892043113708496\n",
      "epoch:798,lr:1,loss:11.109172821044922\n",
      "epoch:799,lr:1,loss:10.89300537109375\n",
      "epoch:800,lr:1,loss:11.110430717468262\n",
      "epoch:801,lr:1,loss:10.89394474029541\n",
      "epoch:802,lr:1,loss:11.11168384552002\n",
      "epoch:803,lr:1,loss:10.894904136657715\n",
      "epoch:804,lr:1,loss:11.112958908081055\n",
      "epoch:805,lr:1,loss:10.89583683013916\n",
      "epoch:806,lr:1,loss:11.114171981811523\n",
      "epoch:807,lr:1,loss:10.896769523620605\n",
      "epoch:808,lr:1,loss:11.11543083190918\n",
      "epoch:809,lr:1,loss:10.897706985473633\n",
      "epoch:810,lr:1,loss:11.116646766662598\n",
      "epoch:811,lr:1,loss:10.898613929748535\n",
      "epoch:812,lr:1,loss:11.117857933044434\n",
      "epoch:813,lr:1,loss:10.899524688720703\n",
      "epoch:814,lr:1,loss:11.119070053100586\n",
      "epoch:815,lr:1,loss:10.900431632995605\n",
      "epoch:816,lr:1,loss:11.120251655578613\n",
      "epoch:817,lr:1,loss:10.901321411132812\n",
      "epoch:818,lr:1,loss:11.12144660949707\n",
      "epoch:819,lr:1,loss:10.90221881866455\n",
      "epoch:820,lr:1,loss:11.122620582580566\n",
      "epoch:821,lr:1,loss:10.903099060058594\n",
      "epoch:822,lr:1,loss:11.123799324035645\n",
      "epoch:823,lr:1,loss:10.903976440429688\n",
      "epoch:824,lr:1,loss:11.124958038330078\n",
      "epoch:825,lr:1,loss:10.904847145080566\n",
      "epoch:826,lr:1,loss:11.126117706298828\n",
      "epoch:827,lr:1,loss:10.905706405639648\n",
      "epoch:828,lr:1,loss:11.127249717712402\n",
      "epoch:829,lr:1,loss:10.906567573547363\n",
      "epoch:830,lr:1,loss:11.12839126586914\n",
      "epoch:831,lr:1,loss:10.907422065734863\n",
      "epoch:832,lr:1,loss:11.129525184631348\n",
      "epoch:833,lr:1,loss:10.908255577087402\n",
      "epoch:834,lr:1,loss:11.13064193725586\n",
      "epoch:835,lr:1,loss:10.909100532531738\n",
      "epoch:836,lr:1,loss:11.131758689880371\n",
      "epoch:837,lr:1,loss:10.909930229187012\n",
      "epoch:838,lr:1,loss:11.132855415344238\n",
      "epoch:839,lr:1,loss:10.910748481750488\n",
      "epoch:840,lr:1,loss:11.133934020996094\n",
      "epoch:841,lr:1,loss:10.911558151245117\n",
      "epoch:842,lr:1,loss:11.135035514831543\n",
      "epoch:843,lr:1,loss:10.91239070892334\n",
      "epoch:844,lr:1,loss:11.136138916015625\n",
      "epoch:845,lr:1,loss:10.913199424743652\n",
      "epoch:846,lr:1,loss:11.137211799621582\n",
      "epoch:847,lr:1,loss:10.913995742797852\n",
      "epoch:848,lr:1,loss:11.138253211975098\n",
      "epoch:849,lr:1,loss:10.914775848388672\n",
      "epoch:850,lr:1,loss:11.139309883117676\n",
      "epoch:851,lr:1,loss:10.915576934814453\n",
      "epoch:852,lr:1,loss:11.140364646911621\n",
      "epoch:853,lr:1,loss:10.916354179382324\n",
      "epoch:854,lr:1,loss:11.141404151916504\n",
      "epoch:855,lr:1,loss:10.917133331298828\n",
      "epoch:856,lr:1,loss:11.142440795898438\n",
      "epoch:857,lr:1,loss:10.917892456054688\n",
      "epoch:858,lr:1,loss:11.143462181091309\n",
      "epoch:859,lr:1,loss:10.918670654296875\n",
      "epoch:860,lr:1,loss:11.14449405670166\n",
      "epoch:861,lr:1,loss:10.919417381286621\n",
      "epoch:862,lr:1,loss:11.145484924316406\n",
      "epoch:863,lr:1,loss:10.920167922973633\n",
      "epoch:864,lr:1,loss:11.146475791931152\n",
      "epoch:865,lr:1,loss:10.920902252197266\n",
      "epoch:866,lr:1,loss:11.14747142791748\n",
      "epoch:867,lr:1,loss:10.92165756225586\n",
      "epoch:868,lr:1,loss:11.148465156555176\n",
      "epoch:869,lr:1,loss:10.92238712310791\n",
      "epoch:870,lr:1,loss:11.149452209472656\n",
      "epoch:871,lr:1,loss:10.923121452331543\n",
      "epoch:872,lr:1,loss:11.15041732788086\n",
      "epoch:873,lr:1,loss:10.923832893371582\n",
      "epoch:874,lr:1,loss:11.151374816894531\n",
      "epoch:875,lr:1,loss:10.92454719543457\n",
      "epoch:876,lr:1,loss:11.152334213256836\n",
      "epoch:877,lr:1,loss:10.925265312194824\n",
      "epoch:878,lr:1,loss:11.15328598022461\n",
      "epoch:879,lr:1,loss:10.925973892211914\n",
      "epoch:880,lr:1,loss:11.15423583984375\n",
      "epoch:881,lr:1,loss:10.926671028137207\n",
      "epoch:882,lr:1,loss:11.155179023742676\n",
      "epoch:883,lr:1,loss:10.927385330200195\n",
      "epoch:884,lr:1,loss:11.156120300292969\n",
      "epoch:885,lr:1,loss:10.928069114685059\n",
      "epoch:886,lr:1,loss:11.157045364379883\n",
      "epoch:887,lr:1,loss:10.928755760192871\n",
      "epoch:888,lr:1,loss:11.157947540283203\n",
      "epoch:889,lr:1,loss:10.929425239562988\n",
      "epoch:890,lr:1,loss:11.158864974975586\n",
      "epoch:891,lr:1,loss:10.930109024047852\n",
      "epoch:892,lr:1,loss:11.159782409667969\n",
      "epoch:893,lr:1,loss:10.930778503417969\n",
      "epoch:894,lr:1,loss:11.16065788269043\n",
      "epoch:895,lr:1,loss:10.931438446044922\n",
      "epoch:896,lr:1,loss:11.161555290222168\n",
      "epoch:897,lr:1,loss:10.93210220336914\n",
      "epoch:898,lr:1,loss:11.162444114685059\n",
      "epoch:899,lr:1,loss:10.932760238647461\n",
      "epoch:900,lr:1,loss:11.163312911987305\n",
      "epoch:901,lr:1,loss:10.933402061462402\n",
      "epoch:902,lr:1,loss:11.1641845703125\n",
      "epoch:903,lr:1,loss:10.934038162231445\n",
      "epoch:904,lr:1,loss:11.165045738220215\n",
      "epoch:905,lr:1,loss:10.934694290161133\n",
      "epoch:906,lr:1,loss:11.16591739654541\n",
      "epoch:907,lr:1,loss:10.93532657623291\n",
      "epoch:908,lr:1,loss:11.166769981384277\n",
      "epoch:909,lr:1,loss:10.935946464538574\n",
      "epoch:910,lr:1,loss:11.167593955993652\n",
      "epoch:911,lr:1,loss:10.936566352844238\n",
      "epoch:912,lr:1,loss:11.168428421020508\n",
      "epoch:913,lr:1,loss:10.937195777893066\n",
      "epoch:914,lr:1,loss:11.16927433013916\n",
      "epoch:915,lr:1,loss:10.937809944152832\n",
      "epoch:916,lr:1,loss:11.170098304748535\n",
      "epoch:917,lr:1,loss:10.93840217590332\n",
      "epoch:918,lr:1,loss:11.170907020568848\n",
      "epoch:919,lr:1,loss:10.939022064208984\n",
      "epoch:920,lr:1,loss:11.171732902526855\n",
      "epoch:921,lr:1,loss:10.939626693725586\n",
      "epoch:922,lr:1,loss:11.172553062438965\n",
      "epoch:923,lr:1,loss:10.940225601196289\n",
      "epoch:924,lr:1,loss:11.17335033416748\n"
     ]
    },
    {
     "name": "stdout",
     "output_type": "stream",
     "text": [
      "epoch:925,lr:1,loss:10.94080924987793\n",
      "epoch:926,lr:1,loss:11.174129486083984\n",
      "epoch:927,lr:1,loss:10.94139289855957\n",
      "epoch:928,lr:1,loss:11.174918174743652\n",
      "epoch:929,lr:1,loss:10.941980361938477\n",
      "epoch:930,lr:1,loss:11.17570972442627\n",
      "epoch:931,lr:1,loss:10.942551612854004\n",
      "epoch:932,lr:1,loss:11.176481246948242\n",
      "epoch:933,lr:1,loss:10.943124771118164\n",
      "epoch:934,lr:1,loss:11.177263259887695\n",
      "epoch:935,lr:1,loss:10.943700790405273\n",
      "epoch:936,lr:1,loss:11.1780366897583\n",
      "epoch:937,lr:1,loss:10.944262504577637\n",
      "epoch:938,lr:1,loss:11.178790092468262\n",
      "epoch:939,lr:1,loss:10.94482421875\n",
      "epoch:940,lr:1,loss:11.179542541503906\n",
      "epoch:941,lr:1,loss:10.945371627807617\n",
      "epoch:942,lr:1,loss:11.18028736114502\n",
      "epoch:943,lr:1,loss:10.945921897888184\n",
      "epoch:944,lr:1,loss:11.18103313446045\n",
      "epoch:945,lr:1,loss:10.946481704711914\n",
      "epoch:946,lr:1,loss:11.181779861450195\n",
      "epoch:947,lr:1,loss:10.94702434539795\n",
      "epoch:948,lr:1,loss:11.182525634765625\n",
      "epoch:949,lr:1,loss:10.947563171386719\n",
      "epoch:950,lr:1,loss:11.18323040008545\n",
      "epoch:951,lr:1,loss:10.948083877563477\n",
      "epoch:952,lr:1,loss:11.1839599609375\n",
      "epoch:953,lr:1,loss:10.948626518249512\n",
      "epoch:954,lr:1,loss:11.18468952178955\n",
      "epoch:955,lr:1,loss:10.949152946472168\n",
      "epoch:956,lr:1,loss:11.185386657714844\n",
      "epoch:957,lr:1,loss:10.949664115905762\n",
      "epoch:958,lr:1,loss:11.186084747314453\n",
      "epoch:959,lr:1,loss:10.95018482208252\n",
      "epoch:960,lr:1,loss:11.186797142028809\n",
      "epoch:961,lr:1,loss:10.95070743560791\n",
      "epoch:962,lr:1,loss:11.187498092651367\n",
      "epoch:963,lr:1,loss:10.951207160949707\n",
      "epoch:964,lr:1,loss:11.188178062438965\n",
      "epoch:965,lr:1,loss:10.951723098754883\n",
      "epoch:966,lr:1,loss:11.18886947631836\n",
      "epoch:967,lr:1,loss:10.952216148376465\n",
      "epoch:968,lr:1,loss:11.18955135345459\n",
      "epoch:969,lr:1,loss:10.952720642089844\n",
      "epoch:970,lr:1,loss:11.19021224975586\n",
      "epoch:971,lr:1,loss:10.95319938659668\n",
      "epoch:972,lr:1,loss:11.190886497497559\n",
      "epoch:973,lr:1,loss:10.953707695007324\n",
      "epoch:974,lr:1,loss:11.191559791564941\n",
      "epoch:975,lr:1,loss:10.954181671142578\n",
      "epoch:976,lr:1,loss:11.192214965820312\n",
      "epoch:977,lr:1,loss:10.95467472076416\n",
      "epoch:978,lr:1,loss:11.192867279052734\n",
      "epoch:979,lr:1,loss:10.955135345458984\n",
      "epoch:980,lr:1,loss:11.193502426147461\n",
      "epoch:981,lr:1,loss:10.95561408996582\n",
      "epoch:982,lr:1,loss:11.194159507751465\n",
      "epoch:983,lr:1,loss:10.956093788146973\n",
      "epoch:984,lr:1,loss:11.194814682006836\n",
      "epoch:985,lr:1,loss:10.956562995910645\n",
      "epoch:986,lr:1,loss:11.195430755615234\n",
      "epoch:987,lr:1,loss:10.957018852233887\n",
      "epoch:988,lr:1,loss:11.19606876373291\n",
      "epoch:989,lr:1,loss:10.957481384277344\n",
      "epoch:990,lr:1,loss:11.196674346923828\n",
      "epoch:991,lr:1,loss:10.957930564880371\n",
      "epoch:992,lr:1,loss:11.197301864624023\n",
      "epoch:993,lr:1,loss:10.958392143249512\n",
      "epoch:994,lr:1,loss:11.197940826416016\n",
      "epoch:995,lr:1,loss:10.958840370178223\n",
      "epoch:996,lr:1,loss:11.198538780212402\n",
      "epoch:997,lr:1,loss:10.959281921386719\n",
      "epoch:998,lr:1,loss:11.199138641357422\n",
      "epoch:999,lr:1,loss:10.95973014831543\n",
      "epoch:1000,lr:1,loss:11.19975757598877\n",
      "epoch:1001,lr:1,loss:10.960165977478027\n",
      "epoch:1002,lr:1,loss:11.200336456298828\n",
      "epoch:1003,lr:1,loss:10.960599899291992\n",
      "epoch:1004,lr:1,loss:11.200948715209961\n",
      "epoch:1005,lr:1,loss:10.961038589477539\n",
      "epoch:1006,lr:1,loss:11.201539039611816\n",
      "epoch:1007,lr:1,loss:10.961461067199707\n",
      "epoch:1008,lr:1,loss:11.20209789276123\n",
      "epoch:1009,lr:1,loss:10.961880683898926\n",
      "epoch:1010,lr:1,loss:11.202701568603516\n",
      "epoch:1011,lr:1,loss:10.962308883666992\n",
      "epoch:1012,lr:1,loss:11.203261375427246\n",
      "epoch:1013,lr:1,loss:10.962722778320312\n",
      "epoch:1014,lr:1,loss:11.203845977783203\n",
      "epoch:1015,lr:1,loss:10.963135719299316\n",
      "epoch:1016,lr:1,loss:11.204385757446289\n",
      "epoch:1017,lr:1,loss:10.963543891906738\n",
      "epoch:1018,lr:1,loss:11.204959869384766\n",
      "epoch:1019,lr:1,loss:10.963957786560059\n",
      "epoch:1020,lr:1,loss:11.205523490905762\n",
      "epoch:1021,lr:1,loss:10.964362144470215\n",
      "epoch:1022,lr:1,loss:11.20608901977539\n",
      "epoch:1023,lr:1,loss:10.964770317077637\n",
      "epoch:1024,lr:1,loss:11.206631660461426\n",
      "epoch:1025,lr:1,loss:10.965161323547363\n",
      "epoch:1026,lr:1,loss:11.207165718078613\n",
      "epoch:1027,lr:1,loss:10.965544700622559\n",
      "epoch:1028,lr:1,loss:11.20768928527832\n",
      "epoch:1029,lr:1,loss:10.96592903137207\n",
      "epoch:1030,lr:1,loss:11.20822525024414\n",
      "epoch:1031,lr:1,loss:10.966323852539062\n",
      "epoch:1032,lr:1,loss:11.208760261535645\n",
      "epoch:1033,lr:1,loss:10.966718673706055\n",
      "epoch:1034,lr:1,loss:11.209306716918945\n",
      "epoch:1035,lr:1,loss:10.96709156036377\n",
      "epoch:1036,lr:1,loss:11.209822654724121\n",
      "epoch:1037,lr:1,loss:10.967482566833496\n",
      "epoch:1038,lr:1,loss:11.210350036621094\n",
      "epoch:1039,lr:1,loss:10.967848777770996\n",
      "epoch:1040,lr:1,loss:11.210845947265625\n",
      "epoch:1041,lr:1,loss:10.96821403503418\n",
      "epoch:1042,lr:1,loss:11.211363792419434\n",
      "epoch:1043,lr:1,loss:10.96859073638916\n",
      "epoch:1044,lr:1,loss:11.211870193481445\n",
      "epoch:1045,lr:1,loss:10.96895980834961\n",
      "epoch:1046,lr:1,loss:11.21238899230957\n",
      "epoch:1047,lr:1,loss:10.969330787658691\n",
      "epoch:1048,lr:1,loss:11.212898254394531\n",
      "epoch:1049,lr:1,loss:10.969694137573242\n",
      "epoch:1050,lr:1,loss:11.213374137878418\n",
      "epoch:1051,lr:1,loss:10.970030784606934\n",
      "epoch:1052,lr:1,loss:11.213852882385254\n",
      "epoch:1053,lr:1,loss:10.97038745880127\n",
      "epoch:1054,lr:1,loss:11.214341163635254\n",
      "epoch:1055,lr:1,loss:10.970744132995605\n",
      "epoch:1056,lr:1,loss:11.214852333068848\n",
      "epoch:1057,lr:1,loss:10.971098899841309\n",
      "epoch:1058,lr:1,loss:11.215322494506836\n",
      "epoch:1059,lr:1,loss:10.971449851989746\n",
      "epoch:1060,lr:1,loss:11.215800285339355\n",
      "epoch:1061,lr:1,loss:10.971784591674805\n",
      "epoch:1062,lr:1,loss:11.216259956359863\n",
      "epoch:1063,lr:1,loss:10.972119331359863\n",
      "epoch:1064,lr:1,loss:11.216730117797852\n",
      "epoch:1065,lr:1,loss:10.972450256347656\n",
      "epoch:1066,lr:1,loss:11.217203140258789\n",
      "epoch:1067,lr:1,loss:10.972806930541992\n",
      "epoch:1068,lr:1,loss:11.217673301696777\n",
      "epoch:1069,lr:1,loss:10.973129272460938\n",
      "epoch:1070,lr:1,loss:11.218125343322754\n",
      "epoch:1071,lr:1,loss:10.973453521728516\n",
      "epoch:1072,lr:1,loss:11.218576431274414\n",
      "epoch:1073,lr:1,loss:10.97377872467041\n",
      "epoch:1074,lr:1,loss:11.219029426574707\n",
      "epoch:1075,lr:1,loss:10.974105834960938\n",
      "epoch:1076,lr:1,loss:11.219482421875\n",
      "epoch:1077,lr:1,loss:10.974433898925781\n",
      "epoch:1078,lr:1,loss:11.219923973083496\n",
      "epoch:1079,lr:1,loss:10.974743843078613\n",
      "epoch:1080,lr:1,loss:11.220367431640625\n",
      "epoch:1081,lr:1,loss:10.97507381439209\n",
      "epoch:1082,lr:1,loss:11.220808029174805\n",
      "epoch:1083,lr:1,loss:10.975377082824707\n",
      "epoch:1084,lr:1,loss:11.22124195098877\n",
      "epoch:1085,lr:1,loss:10.975685119628906\n",
      "epoch:1086,lr:1,loss:11.22166633605957\n",
      "epoch:1087,lr:1,loss:10.975992202758789\n",
      "epoch:1088,lr:1,loss:11.222078323364258\n",
      "epoch:1089,lr:1,loss:10.976297378540039\n",
      "epoch:1090,lr:1,loss:11.222512245178223\n",
      "epoch:1091,lr:1,loss:10.976597785949707\n",
      "epoch:1092,lr:1,loss:11.22293758392334\n",
      "epoch:1093,lr:1,loss:10.976900100708008\n",
      "epoch:1094,lr:1,loss:11.223340034484863\n",
      "epoch:1095,lr:1,loss:10.977192878723145\n",
      "epoch:1096,lr:1,loss:11.223753929138184\n",
      "epoch:1097,lr:1,loss:10.977486610412598\n",
      "epoch:1098,lr:1,loss:11.224169731140137\n",
      "epoch:1099,lr:1,loss:10.977783203125\n",
      "epoch:1100,lr:1,loss:11.22457504272461\n",
      "epoch:1101,lr:1,loss:10.978063583374023\n",
      "epoch:1102,lr:1,loss:11.224959373474121\n",
      "epoch:1103,lr:1,loss:10.978358268737793\n",
      "epoch:1104,lr:1,loss:11.225385665893555\n",
      "epoch:1105,lr:1,loss:10.978642463684082\n",
      "epoch:1106,lr:1,loss:11.2257719039917\n",
      "epoch:1107,lr:1,loss:10.978923797607422\n",
      "epoch:1108,lr:1,loss:11.226157188415527\n",
      "epoch:1109,lr:1,loss:10.97919750213623\n",
      "epoch:1110,lr:1,loss:11.226542472839355\n",
      "epoch:1111,lr:1,loss:10.979474067687988\n",
      "epoch:1112,lr:1,loss:11.22693920135498\n",
      "epoch:1113,lr:1,loss:10.979759216308594\n",
      "epoch:1114,lr:1,loss:11.227314949035645\n",
      "epoch:1115,lr:1,loss:10.980025291442871\n",
      "epoch:1116,lr:1,loss:11.227701187133789\n",
      "epoch:1117,lr:1,loss:10.980287551879883\n",
      "epoch:1118,lr:1,loss:11.228078842163086\n",
      "epoch:1119,lr:1,loss:10.980574607849121\n",
      "epoch:1120,lr:1,loss:11.228466033935547\n",
      "epoch:1121,lr:1,loss:10.980829238891602\n",
      "epoch:1122,lr:1,loss:11.2288236618042\n",
      "epoch:1123,lr:1,loss:10.981077194213867\n",
      "epoch:1124,lr:1,loss:11.229182243347168\n",
      "epoch:1125,lr:1,loss:10.981359481811523\n",
      "epoch:1126,lr:1,loss:11.229557991027832\n",
      "epoch:1127,lr:1,loss:10.981607437133789\n",
      "epoch:1128,lr:1,loss:11.229904174804688\n",
      "epoch:1129,lr:1,loss:10.981863975524902\n",
      "epoch:1130,lr:1,loss:11.230273246765137\n",
      "epoch:1131,lr:1,loss:10.982114791870117\n",
      "epoch:1132,lr:1,loss:11.230621337890625\n",
      "epoch:1133,lr:1,loss:10.982364654541016\n",
      "epoch:1134,lr:1,loss:11.230968475341797\n",
      "epoch:1135,lr:1,loss:10.9826078414917\n",
      "epoch:1136,lr:1,loss:11.231317520141602\n",
      "epoch:1137,lr:1,loss:10.982868194580078\n",
      "epoch:1138,lr:1,loss:11.231687545776367\n",
      "epoch:1139,lr:1,loss:10.983114242553711\n",
      "epoch:1140,lr:1,loss:11.232026100158691\n",
      "epoch:1141,lr:1,loss:10.983352661132812\n",
      "epoch:1142,lr:1,loss:11.232355117797852\n",
      "epoch:1143,lr:1,loss:10.983589172363281\n",
      "epoch:1144,lr:1,loss:11.232693672180176\n",
      "epoch:1145,lr:1,loss:10.983834266662598\n",
      "epoch:1146,lr:1,loss:11.233044624328613\n",
      "epoch:1147,lr:1,loss:10.984066009521484\n",
      "epoch:1148,lr:1,loss:11.233373641967773\n",
      "epoch:1149,lr:1,loss:10.98430061340332\n",
      "epoch:1150,lr:1,loss:11.23369312286377\n",
      "epoch:1151,lr:1,loss:10.984532356262207\n",
      "epoch:1152,lr:1,loss:11.234023094177246\n",
      "epoch:1153,lr:1,loss:10.98476505279541\n",
      "epoch:1154,lr:1,loss:11.234341621398926\n",
      "epoch:1155,lr:1,loss:10.984980583190918\n",
      "epoch:1156,lr:1,loss:11.234674453735352\n"
     ]
    },
    {
     "name": "stdout",
     "output_type": "stream",
     "text": [
      "epoch:1157,lr:1,loss:10.985217094421387\n",
      "epoch:1158,lr:1,loss:11.234983444213867\n",
      "epoch:1159,lr:1,loss:10.985435485839844\n",
      "epoch:1160,lr:1,loss:11.2352933883667\n",
      "epoch:1161,lr:1,loss:10.9856538772583\n",
      "epoch:1162,lr:1,loss:11.235604286193848\n",
      "epoch:1163,lr:1,loss:10.985864639282227\n",
      "epoch:1164,lr:1,loss:11.235916137695312\n",
      "epoch:1165,lr:1,loss:10.986095428466797\n",
      "epoch:1166,lr:1,loss:11.236226081848145\n",
      "epoch:1167,lr:1,loss:10.986306190490723\n",
      "epoch:1168,lr:1,loss:11.236549377441406\n",
      "epoch:1169,lr:1,loss:10.986531257629395\n",
      "epoch:1170,lr:1,loss:11.23685073852539\n",
      "epoch:1171,lr:1,loss:10.986737251281738\n",
      "epoch:1172,lr:1,loss:11.237130165100098\n",
      "epoch:1173,lr:1,loss:10.986933708190918\n",
      "epoch:1174,lr:1,loss:11.237432479858398\n",
      "epoch:1175,lr:1,loss:10.987151145935059\n",
      "epoch:1176,lr:1,loss:11.237723350524902\n",
      "epoch:1177,lr:1,loss:10.987357139587402\n",
      "epoch:1178,lr:1,loss:11.238037109375\n",
      "epoch:1179,lr:1,loss:10.987560272216797\n",
      "epoch:1180,lr:1,loss:11.23830795288086\n",
      "epoch:1181,lr:1,loss:10.987767219543457\n",
      "epoch:1182,lr:1,loss:11.23859977722168\n",
      "epoch:1183,lr:1,loss:10.98795223236084\n",
      "epoch:1184,lr:1,loss:11.238871574401855\n",
      "epoch:1185,lr:1,loss:10.988154411315918\n",
      "epoch:1186,lr:1,loss:11.239164352416992\n",
      "epoch:1187,lr:1,loss:10.988357543945312\n",
      "epoch:1188,lr:1,loss:11.239447593688965\n",
      "epoch:1189,lr:1,loss:10.988543510437012\n",
      "epoch:1190,lr:1,loss:11.23970890045166\n",
      "epoch:1191,lr:1,loss:10.988737106323242\n",
      "epoch:1192,lr:1,loss:11.240002632141113\n",
      "epoch:1193,lr:1,loss:10.988934516906738\n",
      "epoch:1194,lr:1,loss:11.240286827087402\n",
      "epoch:1195,lr:1,loss:10.98912525177002\n",
      "epoch:1196,lr:1,loss:11.24053955078125\n",
      "epoch:1197,lr:1,loss:10.989296913146973\n",
      "epoch:1198,lr:1,loss:11.240791320800781\n",
      "epoch:1199,lr:1,loss:10.989486694335938\n",
      "epoch:1200,lr:1,loss:11.241065979003906\n",
      "epoch:1201,lr:1,loss:10.989676475524902\n",
      "epoch:1202,lr:1,loss:11.241338729858398\n",
      "epoch:1203,lr:1,loss:10.989858627319336\n",
      "epoch:1204,lr:1,loss:11.241602897644043\n",
      "epoch:1205,lr:1,loss:10.990034103393555\n",
      "epoch:1206,lr:1,loss:11.24184513092041\n",
      "epoch:1207,lr:1,loss:10.990208625793457\n",
      "epoch:1208,lr:1,loss:11.242110252380371\n",
      "epoch:1209,lr:1,loss:10.990386009216309\n",
      "epoch:1210,lr:1,loss:11.242341995239258\n",
      "epoch:1211,lr:1,loss:10.990551948547363\n",
      "epoch:1212,lr:1,loss:11.242608070373535\n",
      "epoch:1213,lr:1,loss:10.990730285644531\n",
      "epoch:1214,lr:1,loss:11.242863655090332\n",
      "epoch:1215,lr:1,loss:10.990900993347168\n",
      "epoch:1216,lr:1,loss:11.243096351623535\n",
      "epoch:1217,lr:1,loss:10.991070747375488\n",
      "epoch:1218,lr:1,loss:11.243340492248535\n",
      "epoch:1219,lr:1,loss:10.991239547729492\n",
      "epoch:1220,lr:1,loss:11.243596076965332\n",
      "epoch:1221,lr:1,loss:10.991410255432129\n",
      "epoch:1222,lr:1,loss:11.243840217590332\n",
      "epoch:1223,lr:1,loss:10.99156665802002\n",
      "epoch:1224,lr:1,loss:11.244054794311523\n",
      "epoch:1225,lr:1,loss:10.991728782653809\n",
      "epoch:1226,lr:1,loss:11.244297981262207\n",
      "epoch:1227,lr:1,loss:10.991884231567383\n",
      "epoch:1228,lr:1,loss:11.244523048400879\n",
      "epoch:1229,lr:1,loss:10.992049217224121\n",
      "epoch:1230,lr:1,loss:11.244770050048828\n",
      "epoch:1231,lr:1,loss:10.992206573486328\n",
      "epoch:1232,lr:1,loss:11.2449951171875\n",
      "epoch:1233,lr:1,loss:10.992365837097168\n",
      "epoch:1234,lr:1,loss:11.245219230651855\n",
      "epoch:1235,lr:1,loss:10.992514610290527\n",
      "epoch:1236,lr:1,loss:11.24544620513916\n",
      "epoch:1237,lr:1,loss:10.992674827575684\n",
      "epoch:1238,lr:1,loss:11.245659828186035\n",
      "epoch:1239,lr:1,loss:10.992822647094727\n",
      "epoch:1240,lr:1,loss:11.245896339416504\n",
      "epoch:1241,lr:1,loss:10.992966651916504\n",
      "epoch:1242,lr:1,loss:11.246089935302734\n",
      "epoch:1243,lr:1,loss:10.993108749389648\n",
      "epoch:1244,lr:1,loss:11.246306419372559\n",
      "epoch:1245,lr:1,loss:10.993261337280273\n",
      "epoch:1246,lr:1,loss:11.246532440185547\n",
      "epoch:1247,lr:1,loss:10.993406295776367\n",
      "epoch:1248,lr:1,loss:11.246749877929688\n",
      "epoch:1249,lr:1,loss:10.993551254272461\n",
      "epoch:1250,lr:1,loss:11.246944427490234\n",
      "epoch:1251,lr:1,loss:10.99368667602539\n",
      "epoch:1252,lr:1,loss:11.247160911560059\n",
      "epoch:1253,lr:1,loss:10.9938325881958\n",
      "epoch:1254,lr:1,loss:11.247365951538086\n",
      "epoch:1255,lr:1,loss:10.993962287902832\n",
      "epoch:1256,lr:1,loss:11.247563362121582\n",
      "epoch:1257,lr:1,loss:10.994100570678711\n",
      "epoch:1258,lr:1,loss:11.247757911682129\n",
      "epoch:1259,lr:1,loss:10.99423885345459\n",
      "epoch:1260,lr:1,loss:11.247976303100586\n",
      "epoch:1261,lr:1,loss:10.99437141418457\n",
      "epoch:1262,lr:1,loss:11.248162269592285\n",
      "epoch:1263,lr:1,loss:10.994503021240234\n",
      "epoch:1264,lr:1,loss:11.248348236083984\n",
      "epoch:1265,lr:1,loss:10.994632720947266\n",
      "epoch:1266,lr:1,loss:11.248555183410645\n",
      "epoch:1267,lr:1,loss:10.994766235351562\n",
      "epoch:1268,lr:1,loss:11.24875259399414\n",
      "epoch:1269,lr:1,loss:10.994900703430176\n",
      "epoch:1270,lr:1,loss:11.24893856048584\n",
      "epoch:1271,lr:1,loss:10.995015144348145\n",
      "epoch:1272,lr:1,loss:11.249114990234375\n",
      "epoch:1273,lr:1,loss:10.99514102935791\n",
      "epoch:1274,lr:1,loss:11.249302864074707\n",
      "epoch:1275,lr:1,loss:10.995259284973145\n",
      "epoch:1276,lr:1,loss:11.249490737915039\n",
      "epoch:1277,lr:1,loss:10.995394706726074\n",
      "epoch:1278,lr:1,loss:11.249678611755371\n",
      "epoch:1279,lr:1,loss:10.995519638061523\n",
      "epoch:1280,lr:1,loss:11.249863624572754\n",
      "epoch:1281,lr:1,loss:10.995621681213379\n",
      "epoch:1282,lr:1,loss:11.250032424926758\n",
      "epoch:1283,lr:1,loss:10.99575138092041\n",
      "epoch:1284,lr:1,loss:11.250208854675293\n",
      "epoch:1285,lr:1,loss:10.995862007141113\n",
      "epoch:1286,lr:1,loss:11.250375747680664\n",
      "epoch:1287,lr:1,loss:10.995972633361816\n",
      "epoch:1288,lr:1,loss:11.250554084777832\n",
      "epoch:1289,lr:1,loss:10.996094703674316\n",
      "epoch:1290,lr:1,loss:11.250720977783203\n",
      "epoch:1291,lr:1,loss:10.996197700500488\n",
      "epoch:1292,lr:1,loss:11.25088882446289\n",
      "epoch:1293,lr:1,loss:10.996318817138672\n",
      "epoch:1294,lr:1,loss:11.251066207885742\n",
      "epoch:1295,lr:1,loss:10.996416091918945\n",
      "epoch:1296,lr:1,loss:11.251225471496582\n",
      "epoch:1297,lr:1,loss:10.996540069580078\n",
      "epoch:1298,lr:1,loss:11.25139331817627\n",
      "epoch:1299,lr:1,loss:10.996644973754883\n",
      "epoch:1300,lr:1,loss:11.251559257507324\n",
      "epoch:1301,lr:1,loss:10.996743202209473\n",
      "epoch:1302,lr:1,loss:11.251708984375\n",
      "epoch:1303,lr:1,loss:10.99685001373291\n",
      "epoch:1304,lr:1,loss:11.251876831054688\n",
      "epoch:1305,lr:1,loss:10.996956825256348\n",
      "epoch:1306,lr:1,loss:11.252036094665527\n",
      "epoch:1307,lr:1,loss:10.99705696105957\n",
      "epoch:1308,lr:1,loss:11.25219440460205\n",
      "epoch:1309,lr:1,loss:10.997164726257324\n",
      "epoch:1310,lr:1,loss:11.252352714538574\n",
      "epoch:1311,lr:1,loss:10.997265815734863\n",
      "epoch:1312,lr:1,loss:11.252500534057617\n",
      "epoch:1313,lr:1,loss:10.997357368469238\n",
      "epoch:1314,lr:1,loss:11.25266170501709\n",
      "epoch:1315,lr:1,loss:10.99746036529541\n",
      "epoch:1316,lr:1,loss:11.252787590026855\n",
      "epoch:1317,lr:1,loss:10.997542381286621\n",
      "epoch:1318,lr:1,loss:11.252936363220215\n",
      "epoch:1319,lr:1,loss:10.997645378112793\n",
      "epoch:1320,lr:1,loss:11.253085136413574\n",
      "epoch:1321,lr:1,loss:10.997736930847168\n",
      "epoch:1322,lr:1,loss:11.253233909606934\n",
      "epoch:1323,lr:1,loss:10.997832298278809\n",
      "epoch:1324,lr:1,loss:11.253382682800293\n",
      "epoch:1325,lr:1,loss:10.99792766571045\n",
      "epoch:1326,lr:1,loss:11.253509521484375\n",
      "epoch:1327,lr:1,loss:10.998003005981445\n",
      "epoch:1328,lr:1,loss:11.253660202026367\n",
      "epoch:1329,lr:1,loss:10.998102188110352\n",
      "epoch:1330,lr:1,loss:11.253788948059082\n",
      "epoch:1331,lr:1,loss:10.998188018798828\n",
      "epoch:1332,lr:1,loss:11.253915786743164\n",
      "epoch:1333,lr:1,loss:10.998265266418457\n",
      "epoch:1334,lr:1,loss:11.254056930541992\n",
      "epoch:1335,lr:1,loss:10.998353958129883\n",
      "epoch:1336,lr:1,loss:11.25419807434082\n",
      "epoch:1337,lr:1,loss:10.998435020446777\n",
      "epoch:1338,lr:1,loss:11.254315376281738\n",
      "epoch:1339,lr:1,loss:10.998516082763672\n",
      "epoch:1340,lr:1,loss:11.254433631896973\n",
      "epoch:1341,lr:1,loss:10.998595237731934\n",
      "epoch:1342,lr:1,loss:11.254572868347168\n",
      "epoch:1343,lr:1,loss:10.998677253723145\n",
      "epoch:1344,lr:1,loss:11.254704475402832\n",
      "epoch:1345,lr:1,loss:10.998766899108887\n",
      "epoch:1346,lr:1,loss:11.25483226776123\n",
      "epoch:1347,lr:1,loss:10.998839378356934\n",
      "epoch:1348,lr:1,loss:11.254950523376465\n",
      "epoch:1349,lr:1,loss:10.998913764953613\n",
      "epoch:1350,lr:1,loss:11.255059242248535\n",
      "epoch:1351,lr:1,loss:10.998977661132812\n",
      "epoch:1352,lr:1,loss:11.2551908493042\n",
      "epoch:1353,lr:1,loss:10.999070167541504\n",
      "epoch:1354,lr:1,loss:11.25532054901123\n",
      "epoch:1355,lr:1,loss:10.999137878417969\n",
      "epoch:1356,lr:1,loss:11.2554292678833\n",
      "epoch:1357,lr:1,loss:10.999220848083496\n",
      "epoch:1358,lr:1,loss:11.255560874938965\n",
      "epoch:1359,lr:1,loss:10.999288558959961\n",
      "epoch:1360,lr:1,loss:11.255668640136719\n",
      "epoch:1361,lr:1,loss:10.999348640441895\n",
      "epoch:1362,lr:1,loss:11.255758285522461\n",
      "epoch:1363,lr:1,loss:10.999422073364258\n",
      "epoch:1364,lr:1,loss:11.255888938903809\n",
      "epoch:1365,lr:1,loss:10.999490737915039\n",
      "epoch:1366,lr:1,loss:11.255998611450195\n",
      "epoch:1367,lr:1,loss:10.999551773071289\n",
      "epoch:1368,lr:1,loss:11.256098747253418\n",
      "epoch:1369,lr:1,loss:10.999619483947754\n",
      "epoch:1370,lr:1,loss:11.256209373474121\n",
      "epoch:1371,lr:1,loss:10.999680519104004\n",
      "epoch:1372,lr:1,loss:11.256308555603027\n",
      "epoch:1373,lr:1,loss:10.999749183654785\n",
      "epoch:1374,lr:1,loss:11.256418228149414\n",
      "epoch:1375,lr:1,loss:10.999810218811035\n",
      "epoch:1376,lr:1,loss:11.256528854370117\n",
      "epoch:1377,lr:1,loss:10.999873161315918\n",
      "epoch:1378,lr:1,loss:11.25661849975586\n",
      "epoch:1379,lr:1,loss:10.999926567077637\n"
     ]
    },
    {
     "name": "stdout",
     "output_type": "stream",
     "text": [
      "epoch:1380,lr:1,loss:11.256707191467285\n",
      "epoch:1381,lr:1,loss:10.999988555908203\n",
      "epoch:1382,lr:1,loss:11.256818771362305\n",
      "epoch:1383,lr:1,loss:11.00005054473877\n",
      "epoch:1384,lr:1,loss:11.256917953491211\n",
      "epoch:1385,lr:1,loss:11.000105857849121\n",
      "epoch:1386,lr:1,loss:11.257007598876953\n",
      "epoch:1387,lr:1,loss:11.000160217285156\n",
      "epoch:1388,lr:1,loss:11.257109642028809\n",
      "epoch:1389,lr:1,loss:11.000224113464355\n",
      "epoch:1390,lr:1,loss:11.257211685180664\n",
      "epoch:1391,lr:1,loss:11.000271797180176\n",
      "epoch:1392,lr:1,loss:11.25728988647461\n",
      "epoch:1393,lr:1,loss:11.000327110290527\n",
      "epoch:1394,lr:1,loss:11.257391929626465\n",
      "epoch:1395,lr:1,loss:11.000384330749512\n",
      "epoch:1396,lr:1,loss:11.25749397277832\n",
      "epoch:1397,lr:1,loss:11.000442504882812\n",
      "epoch:1398,lr:1,loss:11.257562637329102\n",
      "epoch:1399,lr:1,loss:11.000479698181152\n",
      "epoch:1400,lr:1,loss:11.25765323638916\n",
      "epoch:1401,lr:1,loss:11.000536918640137\n",
      "epoch:1402,lr:1,loss:11.257744789123535\n",
      "epoch:1403,lr:1,loss:11.000577926635742\n",
      "epoch:1404,lr:1,loss:11.257814407348633\n",
      "epoch:1405,lr:1,loss:11.000626564025879\n",
      "epoch:1406,lr:1,loss:11.257905006408691\n",
      "epoch:1407,lr:1,loss:11.000676155090332\n",
      "epoch:1408,lr:1,loss:11.257996559143066\n",
      "epoch:1409,lr:1,loss:11.00071907043457\n",
      "epoch:1410,lr:1,loss:11.258068084716797\n",
      "epoch:1411,lr:1,loss:11.000768661499023\n",
      "epoch:1412,lr:1,loss:11.258148193359375\n",
      "epoch:1413,lr:1,loss:11.000809669494629\n",
      "epoch:1414,lr:1,loss:11.25822925567627\n",
      "epoch:1415,lr:1,loss:11.000860214233398\n",
      "epoch:1416,lr:1,loss:11.258310317993164\n",
      "epoch:1417,lr:1,loss:11.000893592834473\n",
      "epoch:1418,lr:1,loss:11.258391380310059\n",
      "epoch:1419,lr:1,loss:11.000946998596191\n",
      "epoch:1420,lr:1,loss:11.258461952209473\n",
      "epoch:1421,lr:1,loss:11.000981330871582\n",
      "epoch:1422,lr:1,loss:11.258533477783203\n",
      "epoch:1423,lr:1,loss:11.001015663146973\n",
      "epoch:1424,lr:1,loss:11.258605003356934\n",
      "epoch:1425,lr:1,loss:11.001060485839844\n",
      "epoch:1426,lr:1,loss:11.258675575256348\n",
      "epoch:1427,lr:1,loss:11.00108814239502\n",
      "epoch:1428,lr:1,loss:11.2587251663208\n",
      "epoch:1429,lr:1,loss:11.00112247467041\n",
      "epoch:1430,lr:1,loss:11.258796691894531\n",
      "epoch:1431,lr:1,loss:11.0011568069458\n",
      "epoch:1432,lr:1,loss:11.258867263793945\n",
      "epoch:1433,lr:1,loss:11.00119400024414\n",
      "epoch:1434,lr:1,loss:11.258939743041992\n",
      "epoch:1435,lr:1,loss:11.00123119354248\n",
      "epoch:1436,lr:1,loss:11.259012222290039\n",
      "epoch:1437,lr:1,loss:11.001277923583984\n",
      "epoch:1438,lr:1,loss:11.259082794189453\n",
      "epoch:1439,lr:1,loss:11.00130558013916\n",
      "epoch:1440,lr:1,loss:11.2591552734375\n",
      "epoch:1441,lr:1,loss:11.00134563446045\n",
      "epoch:1442,lr:1,loss:11.25920581817627\n",
      "epoch:1443,lr:1,loss:11.001363754272461\n",
      "epoch:1444,lr:1,loss:11.259256362915039\n",
      "epoch:1445,lr:1,loss:11.00139331817627\n",
      "epoch:1446,lr:1,loss:11.259329795837402\n",
      "epoch:1447,lr:1,loss:11.001424789428711\n",
      "epoch:1448,lr:1,loss:11.259381294250488\n",
      "epoch:1449,lr:1,loss:11.00145435333252\n",
      "epoch:1450,lr:1,loss:11.259453773498535\n",
      "epoch:1451,lr:1,loss:11.001494407653809\n",
      "epoch:1452,lr:1,loss:11.259503364562988\n",
      "epoch:1453,lr:1,loss:11.001514434814453\n",
      "epoch:1454,lr:1,loss:11.259566307067871\n",
      "epoch:1455,lr:1,loss:11.001545906066895\n",
      "epoch:1456,lr:1,loss:11.259628295898438\n",
      "epoch:1457,lr:1,loss:11.001568794250488\n",
      "epoch:1458,lr:1,loss:11.25965690612793\n",
      "epoch:1459,lr:1,loss:11.00157356262207\n",
      "epoch:1460,lr:1,loss:11.259711265563965\n",
      "epoch:1461,lr:1,loss:11.001606941223145\n",
      "epoch:1462,lr:1,loss:11.259761810302734\n",
      "epoch:1463,lr:1,loss:11.001629829406738\n",
      "epoch:1464,lr:1,loss:11.259814262390137\n",
      "epoch:1465,lr:1,loss:11.001653671264648\n",
      "epoch:1466,lr:1,loss:11.259866714477539\n",
      "epoch:1467,lr:1,loss:11.001677513122559\n",
      "epoch:1468,lr:1,loss:11.259918212890625\n",
      "epoch:1469,lr:1,loss:11.001692771911621\n",
      "epoch:1470,lr:1,loss:11.259960174560547\n",
      "epoch:1471,lr:1,loss:11.001717567443848\n",
      "epoch:1472,lr:1,loss:11.260000228881836\n",
      "epoch:1473,lr:1,loss:11.001731872558594\n",
      "epoch:1474,lr:1,loss:11.260051727294922\n",
      "epoch:1475,lr:1,loss:11.001749038696289\n",
      "epoch:1476,lr:1,loss:11.260082244873047\n",
      "epoch:1477,lr:1,loss:11.001765251159668\n",
      "epoch:1478,lr:1,loss:11.260136604309082\n",
      "epoch:1479,lr:1,loss:11.00178337097168\n",
      "epoch:1480,lr:1,loss:11.260178565979004\n",
      "epoch:1481,lr:1,loss:11.001800537109375\n",
      "epoch:1482,lr:1,loss:11.260220527648926\n",
      "epoch:1483,lr:1,loss:11.00181770324707\n",
      "epoch:1484,lr:1,loss:11.26025104522705\n",
      "epoch:1485,lr:1,loss:11.001818656921387\n",
      "epoch:1486,lr:1,loss:11.260283470153809\n",
      "epoch:1487,lr:1,loss:11.00184440612793\n",
      "epoch:1488,lr:1,loss:11.260335922241211\n",
      "epoch:1489,lr:1,loss:11.001853942871094\n",
      "epoch:1490,lr:1,loss:11.260368347167969\n",
      "epoch:1491,lr:1,loss:11.001864433288574\n",
      "epoch:1492,lr:1,loss:11.26039981842041\n",
      "epoch:1493,lr:1,loss:11.001873970031738\n",
      "epoch:1494,lr:1,loss:11.260443687438965\n",
      "epoch:1495,lr:1,loss:11.001893997192383\n",
      "epoch:1496,lr:1,loss:11.260475158691406\n",
      "epoch:1497,lr:1,loss:11.001895904541016\n",
      "epoch:1498,lr:1,loss:11.26050853729248\n",
      "epoch:1499,lr:1,loss:11.001914978027344\n",
      "epoch:1500,lr:1,loss:11.260550498962402\n",
      "epoch:1501,lr:1,loss:11.00191879272461\n",
      "epoch:1502,lr:1,loss:11.260560035705566\n",
      "epoch:1503,lr:1,loss:11.001919746398926\n",
      "epoch:1504,lr:1,loss:11.260592460632324\n",
      "epoch:1505,lr:1,loss:11.001930236816406\n",
      "epoch:1506,lr:1,loss:11.260625839233398\n",
      "epoch:1507,lr:1,loss:11.001940727233887\n",
      "epoch:1508,lr:1,loss:11.260680198669434\n",
      "epoch:1509,lr:1,loss:11.001948356628418\n",
      "epoch:1510,lr:1,loss:11.26068115234375\n",
      "epoch:1511,lr:1,loss:11.001949310302734\n",
      "epoch:1512,lr:1,loss:11.260725021362305\n",
      "epoch:1513,lr:1,loss:11.001955032348633\n",
      "epoch:1514,lr:1,loss:11.260736465454102\n",
      "epoch:1515,lr:1,loss:11.001959800720215\n",
      "epoch:1516,lr:1,loss:11.260758399963379\n",
      "epoch:1517,lr:1,loss:11.001962661743164\n",
      "epoch:1518,lr:1,loss:11.260790824890137\n",
      "epoch:1519,lr:1,loss:11.001958847045898\n",
      "epoch:1520,lr:1,loss:11.26080322265625\n",
      "epoch:1521,lr:1,loss:11.00196361541748\n",
      "epoch:1522,lr:1,loss:11.260825157165527\n",
      "epoch:1523,lr:1,loss:11.001959800720215\n",
      "epoch:1524,lr:1,loss:11.260848045349121\n",
      "epoch:1525,lr:1,loss:11.001974105834961\n",
      "epoch:1526,lr:1,loss:11.260881423950195\n",
      "epoch:1527,lr:1,loss:11.001970291137695\n",
      "epoch:1528,lr:1,loss:11.260904312133789\n",
      "epoch:1529,lr:1,loss:11.001976013183594\n",
      "epoch:1530,lr:1,loss:11.260927200317383\n",
      "epoch:1531,lr:1,loss:11.001964569091797\n",
      "epoch:1532,lr:1,loss:11.260929107666016\n",
      "epoch:1533,lr:1,loss:11.001970291137695\n",
      "epoch:1534,lr:1,loss:11.260961532592773\n",
      "epoch:1535,lr:1,loss:11.001967430114746\n",
      "epoch:1536,lr:1,loss:11.260974884033203\n",
      "epoch:1537,lr:1,loss:11.001957893371582\n",
      "epoch:1538,lr:1,loss:11.26097583770752\n",
      "epoch:1539,lr:1,loss:11.001953125\n",
      "epoch:1540,lr:1,loss:11.260998725891113\n",
      "epoch:1541,lr:1,loss:11.001945495605469\n",
      "epoch:1542,lr:1,loss:11.261000633239746\n",
      "epoch:1543,lr:1,loss:11.00195026397705\n",
      "epoch:1544,lr:1,loss:11.261046409606934\n",
      "epoch:1545,lr:1,loss:11.001943588256836\n",
      "epoch:1546,lr:1,loss:11.261037826538086\n",
      "epoch:1547,lr:1,loss:11.001935005187988\n",
      "epoch:1548,lr:1,loss:11.261039733886719\n",
      "epoch:1549,lr:1,loss:11.001923561096191\n",
      "epoch:1550,lr:1,loss:11.261053085327148\n",
      "epoch:1551,lr:1,loss:11.001914024353027\n",
      "epoch:1552,lr:1,loss:11.261054992675781\n",
      "epoch:1553,lr:1,loss:11.00190544128418\n",
      "epoch:1554,lr:1,loss:11.261068344116211\n",
      "epoch:1555,lr:1,loss:11.001896858215332\n",
      "epoch:1556,lr:1,loss:11.26108169555664\n",
      "epoch:1557,lr:1,loss:11.001888275146484\n",
      "epoch:1558,lr:1,loss:11.26108455657959\n",
      "epoch:1559,lr:1,loss:11.001879692077637\n",
      "epoch:1560,lr:1,loss:11.261098861694336\n",
      "epoch:1561,lr:1,loss:11.001879692077637\n",
      "epoch:1562,lr:1,loss:11.261122703552246\n",
      "epoch:1563,lr:1,loss:11.00186538696289\n",
      "epoch:1564,lr:1,loss:11.261103630065918\n",
      "epoch:1565,lr:1,loss:11.00185489654541\n",
      "epoch:1566,lr:1,loss:11.261116027832031\n",
      "epoch:1567,lr:1,loss:11.001829147338867\n",
      "epoch:1568,lr:1,loss:11.261109352111816\n",
      "epoch:1569,lr:1,loss:11.001823425292969\n",
      "epoch:1570,lr:1,loss:11.26111125946045\n",
      "epoch:1571,lr:1,loss:11.001798629760742\n",
      "epoch:1572,lr:1,loss:11.261104583740234\n",
      "epoch:1573,lr:1,loss:11.001791954040527\n",
      "epoch:1574,lr:1,loss:11.261106491088867\n",
      "epoch:1575,lr:1,loss:11.001773834228516\n",
      "epoch:1576,lr:1,loss:11.26112174987793\n",
      "epoch:1577,lr:1,loss:11.001760482788086\n",
      "epoch:1578,lr:1,loss:11.261114120483398\n",
      "epoch:1579,lr:1,loss:11.001753807067871\n",
      "epoch:1580,lr:1,loss:11.261116981506348\n",
      "epoch:1581,lr:1,loss:11.001729011535645\n",
      "epoch:1582,lr:1,loss:11.261120796203613\n",
      "epoch:1583,lr:1,loss:11.001724243164062\n",
      "epoch:1584,lr:1,loss:11.261124610900879\n",
      "epoch:1585,lr:1,loss:11.001701354980469\n",
      "epoch:1586,lr:1,loss:11.261117935180664\n",
      "epoch:1587,lr:1,loss:11.001687049865723\n",
      "epoch:1588,lr:1,loss:11.261110305786133\n",
      "epoch:1589,lr:1,loss:11.001664161682129\n",
      "epoch:1590,lr:1,loss:11.261103630065918\n",
      "epoch:1591,lr:1,loss:11.001642227172852\n",
      "epoch:1592,lr:1,loss:11.261096954345703\n",
      "epoch:1593,lr:1,loss:11.001627922058105\n",
      "epoch:1594,lr:1,loss:11.261089324951172\n",
      "epoch:1595,lr:1,loss:11.001605987548828\n",
      "epoch:1596,lr:1,loss:11.261082649230957\n",
      "epoch:1597,lr:1,loss:11.001583099365234\n",
      "epoch:1598,lr:1,loss:11.261064529418945\n",
      "epoch:1599,lr:1,loss:11.001559257507324\n",
      "epoch:1600,lr:1,loss:11.261069297790527\n",
      "epoch:1601,lr:1,loss:11.00153923034668\n",
      "epoch:1602,lr:1,loss:11.261062622070312\n",
      "epoch:1603,lr:1,loss:11.001534461975098\n",
      "epoch:1604,lr:1,loss:11.261054039001465\n",
      "epoch:1605,lr:1,loss:11.001494407653809\n",
      "epoch:1606,lr:1,loss:11.261049270629883\n",
      "epoch:1607,lr:1,loss:11.001477241516113\n",
      "epoch:1608,lr:1,loss:11.261021614074707\n",
      "epoch:1609,lr:1,loss:11.001455307006836\n",
      "epoch:1610,lr:1,loss:11.261015892028809\n",
      "epoch:1611,lr:1,loss:11.001431465148926\n",
      "epoch:1612,lr:1,loss:11.261009216308594\n",
      "epoch:1613,lr:1,loss:11.001394271850586\n",
      "epoch:1614,lr:1,loss:11.260981559753418\n",
      "epoch:1615,lr:1,loss:11.001374244689941\n",
      "epoch:1616,lr:1,loss:11.26097583770752\n",
      "epoch:1617,lr:1,loss:11.00135326385498\n",
      "epoch:1618,lr:1,loss:11.260969161987305\n"
     ]
    },
    {
     "name": "stdout",
     "output_type": "stream",
     "text": [
      "epoch:1619,lr:1,loss:11.001333236694336\n",
      "epoch:1620,lr:1,loss:11.26095199584961\n",
      "epoch:1621,lr:1,loss:11.00129508972168\n",
      "epoch:1622,lr:1,loss:11.260924339294434\n",
      "epoch:1623,lr:1,loss:11.001267433166504\n",
      "epoch:1624,lr:1,loss:11.260908126831055\n",
      "epoch:1625,lr:1,loss:11.001239776611328\n",
      "epoch:1626,lr:1,loss:11.260891914367676\n",
      "epoch:1627,lr:1,loss:11.001218795776367\n",
      "epoch:1628,lr:1,loss:11.260885238647461\n",
      "epoch:1629,lr:1,loss:11.00118350982666\n",
      "epoch:1630,lr:1,loss:11.260848045349121\n",
      "epoch:1631,lr:1,loss:11.001153945922852\n",
      "epoch:1632,lr:1,loss:11.260843276977539\n",
      "epoch:1633,lr:1,loss:11.001127243041992\n",
      "epoch:1634,lr:1,loss:11.260814666748047\n",
      "epoch:1635,lr:1,loss:11.0010986328125\n",
      "epoch:1636,lr:1,loss:11.260809898376465\n",
      "epoch:1637,lr:1,loss:11.00107192993164\n",
      "epoch:1638,lr:1,loss:11.260782241821289\n",
      "epoch:1639,lr:1,loss:11.001029014587402\n",
      "epoch:1640,lr:1,loss:11.260757446289062\n",
      "epoch:1641,lr:1,loss:11.001018524169922\n",
      "epoch:1642,lr:1,loss:11.260749816894531\n",
      "epoch:1643,lr:1,loss:11.000975608825684\n",
      "epoch:1644,lr:1,loss:11.260713577270508\n",
      "epoch:1645,lr:1,loss:11.000947952270508\n",
      "epoch:1646,lr:1,loss:11.260697364807129\n",
      "epoch:1647,lr:1,loss:11.000911712646484\n",
      "epoch:1648,lr:1,loss:11.26067066192627\n",
      "epoch:1649,lr:1,loss:11.000876426696777\n",
      "epoch:1650,lr:1,loss:11.26064395904541\n",
      "epoch:1651,lr:1,loss:11.000842094421387\n",
      "epoch:1652,lr:1,loss:11.260618209838867\n",
      "epoch:1653,lr:1,loss:11.000807762145996\n",
      "epoch:1654,lr:1,loss:11.260591506958008\n",
      "epoch:1655,lr:1,loss:11.000773429870605\n",
      "epoch:1656,lr:1,loss:11.260565757751465\n",
      "epoch:1657,lr:1,loss:11.000739097595215\n",
      "epoch:1658,lr:1,loss:11.260538101196289\n",
      "epoch:1659,lr:1,loss:11.000712394714355\n",
      "epoch:1660,lr:1,loss:11.26051139831543\n",
      "epoch:1661,lr:1,loss:11.0006685256958\n",
      "epoch:1662,lr:1,loss:11.26048469543457\n",
      "epoch:1663,lr:1,loss:11.000633239746094\n",
      "epoch:1664,lr:1,loss:11.260458946228027\n",
      "epoch:1665,lr:1,loss:11.000591278076172\n",
      "epoch:1666,lr:1,loss:11.2604341506958\n",
      "epoch:1667,lr:1,loss:11.000568389892578\n",
      "epoch:1668,lr:1,loss:11.260407447814941\n",
      "epoch:1669,lr:1,loss:11.00052547454834\n",
      "epoch:1670,lr:1,loss:11.260382652282715\n",
      "epoch:1671,lr:1,loss:11.000500679016113\n",
      "epoch:1672,lr:1,loss:11.260354995727539\n",
      "epoch:1673,lr:1,loss:11.000450134277344\n",
      "epoch:1674,lr:1,loss:11.260308265686035\n",
      "epoch:1675,lr:1,loss:11.000408172607422\n",
      "epoch:1676,lr:1,loss:11.260282516479492\n",
      "epoch:1677,lr:1,loss:11.000383377075195\n",
      "epoch:1678,lr:1,loss:11.260255813598633\n",
      "epoch:1679,lr:1,loss:11.000324249267578\n",
      "epoch:1680,lr:1,loss:11.260198593139648\n",
      "epoch:1681,lr:1,loss:11.000283241271973\n",
      "epoch:1682,lr:1,loss:11.260162353515625\n",
      "epoch:1683,lr:1,loss:11.000240325927734\n",
      "epoch:1684,lr:1,loss:11.260148048400879\n",
      "epoch:1685,lr:1,loss:11.000219345092773\n",
      "epoch:1686,lr:1,loss:11.260122299194336\n",
      "epoch:1687,lr:1,loss:11.000168800354004\n",
      "epoch:1688,lr:1,loss:11.260063171386719\n",
      "epoch:1689,lr:1,loss:11.00011920928955\n",
      "epoch:1690,lr:1,loss:11.260027885437012\n",
      "epoch:1691,lr:1,loss:11.000086784362793\n",
      "epoch:1692,lr:1,loss:11.260013580322266\n",
      "epoch:1693,lr:1,loss:11.000056266784668\n",
      "epoch:1694,lr:1,loss:11.259976387023926\n",
      "epoch:1695,lr:1,loss:11.000006675720215\n",
      "epoch:1696,lr:1,loss:11.259941101074219\n",
      "epoch:1697,lr:1,loss:10.999958038330078\n",
      "epoch:1698,lr:1,loss:11.259883880615234\n",
      "epoch:1699,lr:1,loss:10.999916076660156\n",
      "epoch:1700,lr:1,loss:11.259846687316895\n",
      "epoch:1701,lr:1,loss:10.999859809875488\n",
      "epoch:1702,lr:1,loss:11.259800910949707\n",
      "epoch:1703,lr:1,loss:10.99982738494873\n",
      "epoch:1704,lr:1,loss:11.259775161743164\n",
      "epoch:1705,lr:1,loss:10.999778747558594\n",
      "epoch:1706,lr:1,loss:11.25972843170166\n",
      "epoch:1707,lr:1,loss:10.999730110168457\n",
      "epoch:1708,lr:1,loss:11.259681701660156\n",
      "epoch:1709,lr:1,loss:10.99968147277832\n",
      "epoch:1710,lr:1,loss:11.259658813476562\n",
      "epoch:1711,lr:1,loss:10.999652862548828\n",
      "epoch:1712,lr:1,loss:11.259621620178223\n",
      "epoch:1713,lr:1,loss:10.999606132507324\n",
      "epoch:1714,lr:1,loss:11.259563446044922\n",
      "epoch:1715,lr:1,loss:10.999547004699707\n",
      "epoch:1716,lr:1,loss:11.259530067443848\n",
      "epoch:1717,lr:1,loss:10.999509811401367\n",
      "epoch:1718,lr:1,loss:11.259493827819824\n",
      "epoch:1719,lr:1,loss:10.999469757080078\n",
      "epoch:1720,lr:1,loss:11.259469985961914\n",
      "epoch:1721,lr:1,loss:10.999432563781738\n",
      "epoch:1722,lr:1,loss:11.259410858154297\n",
      "epoch:1723,lr:1,loss:10.99936580657959\n",
      "epoch:1724,lr:1,loss:11.259366035461426\n",
      "epoch:1725,lr:1,loss:10.999320983886719\n",
      "epoch:1726,lr:1,loss:11.259320259094238\n",
      "epoch:1727,lr:1,loss:10.999274253845215\n",
      "epoch:1728,lr:1,loss:11.25927448272705\n",
      "epoch:1729,lr:1,loss:10.999226570129395\n",
      "epoch:1730,lr:1,loss:11.259227752685547\n",
      "epoch:1731,lr:1,loss:10.99917984008789\n",
      "epoch:1732,lr:1,loss:11.259181022644043\n",
      "epoch:1733,lr:1,loss:10.999115943908691\n",
      "epoch:1734,lr:1,loss:11.259124755859375\n",
      "epoch:1735,lr:1,loss:10.99907112121582\n",
      "epoch:1736,lr:1,loss:11.259079933166504\n",
      "epoch:1737,lr:1,loss:10.999031066894531\n",
      "epoch:1738,lr:1,loss:11.25904369354248\n",
      "epoch:1739,lr:1,loss:10.99897575378418\n",
      "epoch:1740,lr:1,loss:11.258986473083496\n",
      "epoch:1741,lr:1,loss:10.998912811279297\n",
      "epoch:1742,lr:1,loss:11.258920669555664\n",
      "epoch:1743,lr:1,loss:10.998856544494629\n",
      "epoch:1744,lr:1,loss:11.25887393951416\n",
      "epoch:1745,lr:1,loss:10.998817443847656\n",
      "epoch:1746,lr:1,loss:11.258849143981934\n",
      "epoch:1747,lr:1,loss:10.998758316040039\n",
      "epoch:1748,lr:1,loss:11.258783340454102\n",
      "epoch:1749,lr:1,loss:10.9987211227417\n",
      "epoch:1750,lr:1,loss:11.258736610412598\n",
      "epoch:1751,lr:1,loss:10.998655319213867\n",
      "epoch:1752,lr:1,loss:11.258691787719727\n",
      "epoch:1753,lr:1,loss:10.998603820800781\n",
      "epoch:1754,lr:1,loss:11.258625030517578\n",
      "epoch:1755,lr:1,loss:10.99854850769043\n",
      "epoch:1756,lr:1,loss:11.25857925415039\n",
      "epoch:1757,lr:1,loss:10.998502731323242\n",
      "epoch:1758,lr:1,loss:11.258556365966797\n",
      "epoch:1759,lr:1,loss:10.998467445373535\n",
      "epoch:1760,lr:1,loss:11.258511543273926\n",
      "epoch:1761,lr:1,loss:10.998397827148438\n",
      "epoch:1762,lr:1,loss:11.25843334197998\n",
      "epoch:1763,lr:1,loss:10.998342514038086\n",
      "epoch:1764,lr:1,loss:11.25838851928711\n",
      "epoch:1765,lr:1,loss:10.998296737670898\n",
      "epoch:1766,lr:1,loss:11.258341789245605\n",
      "epoch:1767,lr:1,loss:10.998235702514648\n",
      "epoch:1768,lr:1,loss:11.258275032043457\n",
      "epoch:1769,lr:1,loss:10.998172760009766\n",
      "epoch:1770,lr:1,loss:11.258220672607422\n",
      "epoch:1771,lr:1,loss:10.998119354248047\n",
      "epoch:1772,lr:1,loss:11.258163452148438\n",
      "epoch:1773,lr:1,loss:10.998065948486328\n",
      "epoch:1774,lr:1,loss:11.25811767578125\n",
      "epoch:1775,lr:1,loss:10.998006820678711\n",
      "epoch:1776,lr:1,loss:11.258041381835938\n",
      "epoch:1777,lr:1,loss:10.997943878173828\n",
      "epoch:1778,lr:1,loss:11.257996559143066\n",
      "epoch:1779,lr:1,loss:10.997900009155273\n",
      "epoch:1780,lr:1,loss:11.257951736450195\n",
      "epoch:1781,lr:1,loss:10.99783992767334\n",
      "epoch:1782,lr:1,loss:11.257885932922363\n",
      "epoch:1783,lr:1,loss:10.997777938842773\n",
      "epoch:1784,lr:1,loss:11.257818222045898\n",
      "epoch:1785,lr:1,loss:10.997723579406738\n",
      "epoch:1786,lr:1,loss:11.257773399353027\n",
      "epoch:1787,lr:1,loss:10.997662544250488\n",
      "epoch:1788,lr:1,loss:11.257705688476562\n",
      "epoch:1789,lr:1,loss:10.99759292602539\n",
      "epoch:1790,lr:1,loss:11.257640838623047\n",
      "epoch:1791,lr:1,loss:10.99754810333252\n",
      "epoch:1792,lr:1,loss:11.257606506347656\n",
      "epoch:1793,lr:1,loss:10.997489929199219\n",
      "epoch:1794,lr:1,loss:11.257540702819824\n",
      "epoch:1795,lr:1,loss:10.997429847717285\n",
      "epoch:1796,lr:1,loss:11.257486343383789\n",
      "epoch:1797,lr:1,loss:10.997379302978516\n",
      "epoch:1798,lr:1,loss:11.25741958618164\n",
      "epoch:1799,lr:1,loss:10.997307777404785\n",
      "epoch:1800,lr:1,loss:11.257351875305176\n",
      "epoch:1801,lr:1,loss:10.997247695922852\n",
      "epoch:1802,lr:1,loss:11.25729751586914\n",
      "epoch:1803,lr:1,loss:10.997188568115234\n",
      "epoch:1804,lr:1,loss:11.257232666015625\n",
      "epoch:1805,lr:1,loss:10.997127532958984\n",
      "epoch:1806,lr:1,loss:11.257176399230957\n",
      "epoch:1807,lr:1,loss:10.99706745147705\n",
      "epoch:1808,lr:1,loss:11.257111549377441\n",
      "epoch:1809,lr:1,loss:10.997007369995117\n",
      "epoch:1810,lr:1,loss:11.25705623626709\n",
      "epoch:1811,lr:1,loss:10.9969482421875\n",
      "epoch:1812,lr:1,loss:11.256990432739258\n",
      "epoch:1813,lr:1,loss:10.996878623962402\n",
      "epoch:1814,lr:1,loss:11.25692367553711\n",
      "epoch:1815,lr:1,loss:10.996828079223633\n",
      "epoch:1816,lr:1,loss:11.256879806518555\n",
      "epoch:1817,lr:1,loss:10.996769905090332\n",
      "epoch:1818,lr:1,loss:11.25680160522461\n",
      "epoch:1819,lr:1,loss:10.996699333190918\n",
      "epoch:1820,lr:1,loss:11.25674819946289\n",
      "epoch:1821,lr:1,loss:10.996633529663086\n",
      "epoch:1822,lr:1,loss:11.256672859191895\n",
      "epoch:1823,lr:1,loss:10.996581077575684\n",
      "epoch:1824,lr:1,loss:11.256628036499023\n",
      "epoch:1825,lr:1,loss:10.996514320373535\n",
      "epoch:1826,lr:1,loss:11.256539344787598\n",
      "epoch:1827,lr:1,loss:10.996438026428223\n",
      "epoch:1828,lr:1,loss:11.256475448608398\n",
      "epoch:1829,lr:1,loss:10.996379852294922\n",
      "epoch:1830,lr:1,loss:11.256409645080566\n",
      "epoch:1831,lr:1,loss:10.996318817138672\n",
      "epoch:1832,lr:1,loss:11.256342887878418\n",
      "epoch:1833,lr:1,loss:10.99624252319336\n",
      "epoch:1834,lr:1,loss:11.256278991699219\n",
      "epoch:1835,lr:1,loss:10.996187210083008\n",
      "epoch:1836,lr:1,loss:11.256214141845703\n",
      "epoch:1837,lr:1,loss:10.996135711669922\n",
      "epoch:1838,lr:1,loss:11.256145477294922\n",
      "epoch:1839,lr:1,loss:10.996057510375977\n",
      "epoch:1840,lr:1,loss:11.256104469299316\n",
      "epoch:1841,lr:1,loss:10.996009826660156\n",
      "epoch:1842,lr:1,loss:11.256014823913574\n",
      "epoch:1843,lr:1,loss:10.995930671691895\n",
      "epoch:1844,lr:1,loss:11.255972862243652\n",
      "epoch:1845,lr:1,loss:10.99587631225586\n",
      "epoch:1846,lr:1,loss:11.255885124206543\n",
      "epoch:1847,lr:1,loss:10.995800018310547\n",
      "epoch:1848,lr:1,loss:11.255820274353027\n"
     ]
    },
    {
     "name": "stdout",
     "output_type": "stream",
     "text": [
      "epoch:1849,lr:1,loss:10.995741844177246\n",
      "epoch:1850,lr:1,loss:11.255754470825195\n",
      "epoch:1851,lr:1,loss:10.995667457580566\n",
      "epoch:1852,lr:1,loss:11.255680084228516\n",
      "epoch:1853,lr:1,loss:10.995609283447266\n",
      "epoch:1854,lr:1,loss:11.255614280700684\n",
      "epoch:1855,lr:1,loss:10.99553394317627\n",
      "epoch:1856,lr:1,loss:11.255537986755371\n",
      "epoch:1857,lr:1,loss:10.995468139648438\n",
      "epoch:1858,lr:1,loss:11.255463600158691\n",
      "epoch:1859,lr:1,loss:10.995399475097656\n",
      "epoch:1860,lr:1,loss:11.25540828704834\n",
      "epoch:1861,lr:1,loss:10.995343208312988\n",
      "epoch:1862,lr:1,loss:11.255343437194824\n",
      "epoch:1863,lr:1,loss:10.995268821716309\n",
      "epoch:1864,lr:1,loss:11.255256652832031\n",
      "epoch:1865,lr:1,loss:10.995193481445312\n",
      "epoch:1866,lr:1,loss:11.255181312561035\n",
      "epoch:1867,lr:1,loss:10.995135307312012\n",
      "epoch:1868,lr:1,loss:11.255126953125\n",
      "epoch:1869,lr:1,loss:10.995061874389648\n",
      "epoch:1870,lr:1,loss:11.25503921508789\n",
      "epoch:1871,lr:1,loss:10.994987487792969\n",
      "epoch:1872,lr:1,loss:11.254976272583008\n",
      "epoch:1873,lr:1,loss:10.994930267333984\n",
      "epoch:1874,lr:1,loss:11.254910469055176\n",
      "epoch:1875,lr:1,loss:10.994864463806152\n",
      "epoch:1876,lr:1,loss:11.254834175109863\n",
      "epoch:1877,lr:1,loss:10.994781494140625\n",
      "epoch:1878,lr:1,loss:11.254749298095703\n",
      "epoch:1879,lr:1,loss:10.994709014892578\n",
      "epoch:1880,lr:1,loss:11.254673957824707\n",
      "epoch:1881,lr:1,loss:10.994651794433594\n",
      "epoch:1882,lr:1,loss:11.254607200622559\n",
      "epoch:1883,lr:1,loss:10.994576454162598\n",
      "epoch:1884,lr:1,loss:11.254531860351562\n",
      "epoch:1885,lr:1,loss:10.994503021240234\n",
      "epoch:1886,lr:1,loss:11.25444507598877\n",
      "epoch:1887,lr:1,loss:10.994428634643555\n",
      "epoch:1888,lr:1,loss:11.25437068939209\n",
      "epoch:1889,lr:1,loss:10.994354248046875\n",
      "epoch:1890,lr:1,loss:11.25430679321289\n",
      "epoch:1891,lr:1,loss:10.994297981262207\n",
      "epoch:1892,lr:1,loss:11.254241943359375\n",
      "epoch:1893,lr:1,loss:10.99422550201416\n",
      "epoch:1894,lr:1,loss:11.254155158996582\n",
      "epoch:1895,lr:1,loss:10.994150161743164\n",
      "epoch:1896,lr:1,loss:11.254091262817383\n",
      "epoch:1897,lr:1,loss:10.994078636169434\n",
      "epoch:1898,lr:1,loss:11.25399398803711\n",
      "epoch:1899,lr:1,loss:10.994003295898438\n",
      "epoch:1900,lr:1,loss:11.25393009185791\n",
      "epoch:1901,lr:1,loss:10.99393081665039\n",
      "epoch:1902,lr:1,loss:11.253844261169434\n",
      "epoch:1903,lr:1,loss:10.993857383728027\n",
      "epoch:1904,lr:1,loss:11.253767967224121\n",
      "epoch:1905,lr:1,loss:10.99378490447998\n",
      "epoch:1906,lr:1,loss:11.253693580627441\n",
      "epoch:1907,lr:1,loss:10.993721008300781\n",
      "epoch:1908,lr:1,loss:11.253617286682129\n",
      "epoch:1909,lr:1,loss:10.993637084960938\n",
      "epoch:1910,lr:1,loss:11.253532409667969\n",
      "epoch:1911,lr:1,loss:10.99356460571289\n",
      "epoch:1912,lr:1,loss:11.25346851348877\n",
      "epoch:1913,lr:1,loss:10.993509292602539\n",
      "epoch:1914,lr:1,loss:11.253403663635254\n",
      "epoch:1915,lr:1,loss:10.993435859680176\n",
      "epoch:1916,lr:1,loss:11.253328323364258\n",
      "epoch:1917,lr:1,loss:10.993363380432129\n",
      "epoch:1918,lr:1,loss:11.253241539001465\n",
      "epoch:1919,lr:1,loss:10.993274688720703\n",
      "epoch:1920,lr:1,loss:11.253146171569824\n",
      "epoch:1921,lr:1,loss:10.99320125579834\n",
      "epoch:1922,lr:1,loss:11.253059387207031\n",
      "epoch:1923,lr:1,loss:10.99312686920166\n",
      "epoch:1924,lr:1,loss:11.252995491027832\n",
      "epoch:1925,lr:1,loss:10.99305534362793\n",
      "epoch:1926,lr:1,loss:11.252922058105469\n",
      "epoch:1927,lr:1,loss:10.9929838180542\n",
      "epoch:1928,lr:1,loss:11.252823829650879\n",
      "epoch:1929,lr:1,loss:10.992901802062988\n",
      "epoch:1930,lr:1,loss:11.252760887145996\n",
      "epoch:1931,lr:1,loss:10.992839813232422\n",
      "epoch:1932,lr:1,loss:11.25267505645752\n",
      "epoch:1933,lr:1,loss:10.992765426635742\n",
      "epoch:1934,lr:1,loss:11.252610206604004\n",
      "epoch:1935,lr:1,loss:10.99268627166748\n",
      "epoch:1936,lr:1,loss:11.252513885498047\n",
      "epoch:1937,lr:1,loss:10.992605209350586\n",
      "epoch:1938,lr:1,loss:11.252440452575684\n",
      "epoch:1939,lr:1,loss:10.99254322052002\n",
      "epoch:1940,lr:1,loss:11.252352714538574\n",
      "epoch:1941,lr:1,loss:10.992461204528809\n",
      "epoch:1942,lr:1,loss:11.252280235290527\n",
      "epoch:1943,lr:1,loss:10.992387771606445\n",
      "epoch:1944,lr:1,loss:11.252203941345215\n",
      "epoch:1945,lr:1,loss:10.9923095703125\n",
      "epoch:1946,lr:1,loss:11.252120018005371\n",
      "epoch:1947,lr:1,loss:10.99223804473877\n",
      "epoch:1948,lr:1,loss:11.252035140991211\n",
      "epoch:1949,lr:1,loss:10.992157936096191\n",
      "epoch:1950,lr:1,loss:11.251949310302734\n",
      "epoch:1951,lr:1,loss:10.992085456848145\n",
      "epoch:1952,lr:1,loss:11.251862525939941\n",
      "epoch:1953,lr:1,loss:10.991996765136719\n",
      "epoch:1954,lr:1,loss:11.251777648925781\n",
      "epoch:1955,lr:1,loss:10.991926193237305\n",
      "epoch:1956,lr:1,loss:11.251692771911621\n",
      "epoch:1957,lr:1,loss:10.991851806640625\n",
      "epoch:1958,lr:1,loss:11.251628875732422\n",
      "epoch:1959,lr:1,loss:10.991765975952148\n",
      "epoch:1960,lr:1,loss:11.2515230178833\n",
      "epoch:1961,lr:1,loss:10.991694450378418\n",
      "epoch:1962,lr:1,loss:11.251436233520508\n",
      "epoch:1963,lr:1,loss:10.991613388061523\n",
      "epoch:1964,lr:1,loss:11.251361846923828\n",
      "epoch:1965,lr:1,loss:10.991534233093262\n",
      "epoch:1966,lr:1,loss:11.251266479492188\n",
      "epoch:1967,lr:1,loss:10.991461753845215\n",
      "epoch:1968,lr:1,loss:11.251202583312988\n",
      "epoch:1969,lr:1,loss:10.991375923156738\n",
      "epoch:1970,lr:1,loss:11.251096725463867\n",
      "epoch:1971,lr:1,loss:10.991303443908691\n",
      "epoch:1972,lr:1,loss:11.251022338867188\n",
      "epoch:1973,lr:1,loss:10.991230964660645\n",
      "epoch:1974,lr:1,loss:11.250957489013672\n",
      "epoch:1975,lr:1,loss:10.991153717041016\n",
      "epoch:1976,lr:1,loss:11.250850677490234\n",
      "epoch:1977,lr:1,loss:10.991071701049805\n",
      "epoch:1978,lr:1,loss:11.250775337219238\n",
      "epoch:1979,lr:1,loss:10.990984916687012\n",
      "epoch:1980,lr:1,loss:11.250670433044434\n",
      "epoch:1981,lr:1,loss:10.990913391113281\n",
      "epoch:1982,lr:1,loss:11.250606536865234\n",
      "epoch:1983,lr:1,loss:10.990826606750488\n",
      "epoch:1984,lr:1,loss:11.250500679016113\n",
      "epoch:1985,lr:1,loss:10.990747451782227\n",
      "epoch:1986,lr:1,loss:11.250415802001953\n",
      "epoch:1987,lr:1,loss:10.990667343139648\n",
      "epoch:1988,lr:1,loss:11.250329971313477\n",
      "epoch:1989,lr:1,loss:10.990589141845703\n",
      "epoch:1990,lr:1,loss:11.25025749206543\n",
      "epoch:1991,lr:1,loss:10.990519523620605\n",
      "epoch:1992,lr:1,loss:11.250160217285156\n",
      "epoch:1993,lr:1,loss:10.99043083190918\n",
      "epoch:1994,lr:1,loss:11.250076293945312\n",
      "epoch:1995,lr:1,loss:10.990352630615234\n",
      "epoch:1996,lr:1,loss:11.249992370605469\n",
      "epoch:1997,lr:1,loss:10.99028205871582\n",
      "epoch:1998,lr:1,loss:11.249917030334473\n",
      "epoch:1999,lr:1,loss:10.990196228027344\n"
     ]
    }
   ],
   "source": [
    "for epoch in range(epochs):\n",
    "    loss = train(epoch,X_train,y_train)\n",
    "    if loss<0.0001:\n",
    "        break"
   ]
  },
  {
   "cell_type": "code",
   "execution_count": 14,
   "metadata": {},
   "outputs": [],
   "source": [
    "epsilon= 0.06\n",
    "data_p = torch.load('data_p_gaussian_{}.pt'.format(epsilon))\n",
    "target_p = torch.load('target_p_gaussian_{}.pt'.format(epsilon))\n",
    "#print(data_p)"
   ]
  },
  {
   "cell_type": "code",
   "execution_count": 15,
   "metadata": {},
   "outputs": [
    {
     "name": "stdout",
     "output_type": "stream",
     "text": [
      "torch.Size([40, 3])\n"
     ]
    }
   ],
   "source": [
    "print(data_p.size())"
   ]
  },
  {
   "cell_type": "code",
   "execution_count": 16,
   "metadata": {},
   "outputs": [
    {
     "name": "stdout",
     "output_type": "stream",
     "text": [
      "torch.Size([710])\n"
     ]
    }
   ],
   "source": [
    "X_all = torch.cat((X_train.to(device),data_p),0).to('cpu')\n",
    "y_all = torch.cat((y_train.to(device),target_p),0).to('cpu')\n",
    "print(X_all[:,0].size())"
   ]
  },
  {
   "cell_type": "code",
   "execution_count": 17,
   "metadata": {},
   "outputs": [
    {
     "name": "stdout",
     "output_type": "stream",
     "text": [
      "linear.weight tensor([[-0.0346, -0.2471,  0.0193]], device='cuda:0')\n",
      "linear.bias tensor([1.2288], device='cuda:0')\n"
     ]
    }
   ],
   "source": [
    "for name, param in model.named_parameters():\n",
    "    if param.requires_grad:\n",
    "        print(name, param.data)"
   ]
  },
  {
   "cell_type": "code",
   "execution_count": 18,
   "metadata": {},
   "outputs": [],
   "source": [
    "train_loader_all = DataLoader(LinearDataset(X_all, y_all), batch_size=batch_size_train, shuffle=False)\n",
    "device = 'cuda'\n",
    "optimizer = optim.SGD(model.parameters(), lr=0.1)"
   ]
  },
  {
   "cell_type": "code",
   "execution_count": 19,
   "metadata": {},
   "outputs": [],
   "source": [
    "def train(model, device, train_loader, optimizer, epoch):\n",
    "    model.train()\n",
    "    for batch_idx, (data, target) in tqdm(enumerate(train_loader)):\n",
    "        criterion = torch.nn.BCEWithLogitsLoss()\n",
    "        data, target = data.to(device), target.to(device)\n",
    "        optimizer.zero_grad()\n",
    "        output = model(data)\n",
    "        #output = model(data)\n",
    "        loss = criterion(torch.squeeze(output), target)\n",
    "        loss.backward()\n",
    "        optimizer.step()\n",
    "        if batch_idx % 200 == 0:\n",
    "            print('Train Epoch: {} [{}/{} ({:.0f}%)]\\tLoss: {:.6f}'.format(\n",
    "                epoch, batch_idx * len(data), len(train_loader.dataset),\n",
    "                       100. * batch_idx / len(train_loader), loss.item()))\n"
   ]
  },
  {
   "cell_type": "code",
   "execution_count": 20,
   "metadata": {},
   "outputs": [],
   "source": [
    "def test(model, device, test_loader):\n",
    "    model.eval()\n",
    "    test_loss = 0\n",
    "    correct = 0\n",
    "    with torch.no_grad():\n",
    "        for data, target in test_loader:\n",
    "            criterion = torch.nn.BCEWithLogitsLoss()\n",
    "            data, target = data.to(device), target.to(device)\n",
    "            #output = model(data.view(data.size(0), -1))\n",
    "            output = torch.squeeze(model(data))\n",
    "            test_loss += criterion(output, target).item()  # sum up batch loss\n",
    "            pred = torch.squeeze(output).round()  # get the index of the max log-probability\n",
    "            correct += pred.eq(target.view_as(pred)).sum().item()\n",
    "\n",
    "    test_loss /= len(test_loader.dataset)\n",
    "\n",
    "    print('\\nTest set: Average loss: {:.4f}, Accuracy: {}/{} ({:.2f}%)\\n'.format(\n",
    "        test_loss, correct, len(test_loader.dataset),\n",
    "        100. * correct / len(test_loader.dataset)))"
   ]
  },
  {
   "cell_type": "code",
   "execution_count": 21,
   "metadata": {},
   "outputs": [
    {
     "name": "stderr",
     "output_type": "stream",
     "text": [
      "2it [00:00, 62.81it/s]\n"
     ]
    },
    {
     "name": "stdout",
     "output_type": "stream",
     "text": [
      "Train Epoch: 0 [0/710 (0%)]\tLoss: 0.834392\n",
      "\n",
      "Test set: Average loss: 0.0026, Accuracy: 10/330 (3.03%)\n",
      "\n"
     ]
    },
    {
     "name": "stderr",
     "output_type": "stream",
     "text": [
      "2it [00:00, 75.62it/s]\n"
     ]
    },
    {
     "name": "stdout",
     "output_type": "stream",
     "text": [
      "Train Epoch: 1 [0/710 (0%)]\tLoss: 0.850362\n",
      "\n",
      "Test set: Average loss: 0.0026, Accuracy: 10/330 (3.03%)\n",
      "\n"
     ]
    },
    {
     "name": "stderr",
     "output_type": "stream",
     "text": [
      "2it [00:00, 93.47it/s]\n"
     ]
    },
    {
     "name": "stdout",
     "output_type": "stream",
     "text": [
      "Train Epoch: 2 [0/710 (0%)]\tLoss: 0.848152\n",
      "\n",
      "Test set: Average loss: 0.0026, Accuracy: 7/330 (2.12%)\n",
      "\n"
     ]
    },
    {
     "name": "stderr",
     "output_type": "stream",
     "text": [
      "2it [00:00, 85.17it/s]\n"
     ]
    },
    {
     "name": "stdout",
     "output_type": "stream",
     "text": [
      "Train Epoch: 3 [0/710 (0%)]\tLoss: 0.846146\n",
      "\n",
      "Test set: Average loss: 0.0026, Accuracy: 6/330 (1.82%)\n",
      "\n"
     ]
    },
    {
     "name": "stderr",
     "output_type": "stream",
     "text": [
      "2it [00:00, 85.73it/s]\n"
     ]
    },
    {
     "name": "stdout",
     "output_type": "stream",
     "text": [
      "Train Epoch: 4 [0/710 (0%)]\tLoss: 0.844271\n",
      "\n",
      "Test set: Average loss: 0.0026, Accuracy: 5/330 (1.52%)\n",
      "\n"
     ]
    },
    {
     "name": "stderr",
     "output_type": "stream",
     "text": [
      "2it [00:00, 91.46it/s]\n"
     ]
    },
    {
     "name": "stdout",
     "output_type": "stream",
     "text": [
      "Train Epoch: 5 [0/710 (0%)]\tLoss: 0.842502\n",
      "\n",
      "Test set: Average loss: 0.0026, Accuracy: 3/330 (0.91%)\n",
      "\n"
     ]
    },
    {
     "name": "stderr",
     "output_type": "stream",
     "text": [
      "2it [00:00, 88.74it/s]\n"
     ]
    },
    {
     "name": "stdout",
     "output_type": "stream",
     "text": [
      "Train Epoch: 6 [0/710 (0%)]\tLoss: 0.840830\n",
      "\n",
      "Test set: Average loss: 0.0026, Accuracy: 1/330 (0.30%)\n",
      "\n"
     ]
    },
    {
     "name": "stderr",
     "output_type": "stream",
     "text": [
      "2it [00:00, 66.26it/s]\n"
     ]
    },
    {
     "name": "stdout",
     "output_type": "stream",
     "text": [
      "Train Epoch: 7 [0/710 (0%)]\tLoss: 0.839249\n",
      "\n",
      "Test set: Average loss: 0.0026, Accuracy: 1/330 (0.30%)\n",
      "\n"
     ]
    },
    {
     "name": "stderr",
     "output_type": "stream",
     "text": [
      "2it [00:00, 82.68it/s]\n"
     ]
    },
    {
     "name": "stdout",
     "output_type": "stream",
     "text": [
      "Train Epoch: 8 [0/710 (0%)]\tLoss: 0.837754\n",
      "\n",
      "Test set: Average loss: 0.0025, Accuracy: 0/330 (0.00%)\n",
      "\n"
     ]
    },
    {
     "name": "stderr",
     "output_type": "stream",
     "text": [
      "2it [00:00, 96.36it/s]\n"
     ]
    },
    {
     "name": "stdout",
     "output_type": "stream",
     "text": [
      "Train Epoch: 9 [0/710 (0%)]\tLoss: 0.836340\n",
      "\n",
      "Test set: Average loss: 0.0025, Accuracy: 0/330 (0.00%)\n",
      "\n"
     ]
    },
    {
     "name": "stderr",
     "output_type": "stream",
     "text": [
      "2it [00:00, 82.71it/s]\n"
     ]
    },
    {
     "name": "stdout",
     "output_type": "stream",
     "text": [
      "Train Epoch: 10 [0/710 (0%)]\tLoss: 0.835003\n",
      "\n",
      "Test set: Average loss: 0.0025, Accuracy: 0/330 (0.00%)\n",
      "\n"
     ]
    },
    {
     "name": "stderr",
     "output_type": "stream",
     "text": [
      "2it [00:00, 70.87it/s]"
     ]
    },
    {
     "name": "stdout",
     "output_type": "stream",
     "text": [
      "Train Epoch: 11 [0/710 (0%)]\tLoss: 0.833739\n"
     ]
    },
    {
     "name": "stderr",
     "output_type": "stream",
     "text": [
      "\n"
     ]
    },
    {
     "name": "stdout",
     "output_type": "stream",
     "text": [
      "\n",
      "Test set: Average loss: 0.0025, Accuracy: 0/330 (0.00%)\n",
      "\n"
     ]
    },
    {
     "name": "stderr",
     "output_type": "stream",
     "text": [
      "2it [00:00, 96.83it/s]\n"
     ]
    },
    {
     "name": "stdout",
     "output_type": "stream",
     "text": [
      "Train Epoch: 12 [0/710 (0%)]\tLoss: 0.832544\n",
      "\n",
      "Test set: Average loss: 0.0025, Accuracy: 0/330 (0.00%)\n",
      "\n"
     ]
    },
    {
     "name": "stderr",
     "output_type": "stream",
     "text": [
      "2it [00:00, 95.39it/s]\n"
     ]
    },
    {
     "name": "stdout",
     "output_type": "stream",
     "text": [
      "Train Epoch: 13 [0/710 (0%)]\tLoss: 0.831414\n",
      "\n",
      "Test set: Average loss: 0.0025, Accuracy: 0/330 (0.00%)\n",
      "\n"
     ]
    },
    {
     "name": "stderr",
     "output_type": "stream",
     "text": [
      "2it [00:00, 90.17it/s]\n"
     ]
    },
    {
     "name": "stdout",
     "output_type": "stream",
     "text": [
      "Train Epoch: 14 [0/710 (0%)]\tLoss: 0.830347\n",
      "\n",
      "Test set: Average loss: 0.0025, Accuracy: 0/330 (0.00%)\n",
      "\n"
     ]
    },
    {
     "name": "stderr",
     "output_type": "stream",
     "text": [
      "\r",
      "0it [00:00, ?it/s]"
     ]
    },
    {
     "name": "stdout",
     "output_type": "stream",
     "text": [
      "Train Epoch: 15 [0/710 (0%)]\tLoss: 0.829338\n"
     ]
    },
    {
     "name": "stderr",
     "output_type": "stream",
     "text": [
      "2it [00:00, 89.30it/s]\n"
     ]
    },
    {
     "name": "stdout",
     "output_type": "stream",
     "text": [
      "\n",
      "Test set: Average loss: 0.0025, Accuracy: 7/330 (2.12%)\n",
      "\n"
     ]
    },
    {
     "name": "stderr",
     "output_type": "stream",
     "text": [
      "2it [00:00, 89.19it/s]\n"
     ]
    },
    {
     "name": "stdout",
     "output_type": "stream",
     "text": [
      "Train Epoch: 16 [0/710 (0%)]\tLoss: 0.828384\n",
      "\n",
      "Test set: Average loss: 0.0025, Accuracy: 12/330 (3.64%)\n",
      "\n"
     ]
    },
    {
     "name": "stderr",
     "output_type": "stream",
     "text": [
      "2it [00:00, 95.68it/s]\n"
     ]
    },
    {
     "name": "stdout",
     "output_type": "stream",
     "text": [
      "Train Epoch: 17 [0/710 (0%)]\tLoss: 0.827483\n",
      "\n",
      "Test set: Average loss: 0.0025, Accuracy: 18/330 (5.45%)\n",
      "\n"
     ]
    },
    {
     "name": "stderr",
     "output_type": "stream",
     "text": [
      "2it [00:00, 92.36it/s]"
     ]
    },
    {
     "name": "stdout",
     "output_type": "stream",
     "text": [
      "Train Epoch: 18 [0/710 (0%)]\tLoss: 0.826632\n"
     ]
    },
    {
     "name": "stderr",
     "output_type": "stream",
     "text": [
      "\n"
     ]
    },
    {
     "name": "stdout",
     "output_type": "stream",
     "text": [
      "\n",
      "Test set: Average loss: 0.0025, Accuracy: 25/330 (7.58%)\n",
      "\n"
     ]
    },
    {
     "name": "stderr",
     "output_type": "stream",
     "text": [
      "2it [00:00, 98.00it/s]\n"
     ]
    },
    {
     "name": "stdout",
     "output_type": "stream",
     "text": [
      "Train Epoch: 19 [0/710 (0%)]\tLoss: 0.825827\n",
      "\n",
      "Test set: Average loss: 0.0025, Accuracy: 34/330 (10.30%)\n",
      "\n"
     ]
    },
    {
     "name": "stderr",
     "output_type": "stream",
     "text": [
      "2it [00:00, 93.78it/s]\n"
     ]
    },
    {
     "name": "stdout",
     "output_type": "stream",
     "text": [
      "Train Epoch: 20 [0/710 (0%)]\tLoss: 0.825067\n",
      "\n",
      "Test set: Average loss: 0.0025, Accuracy: 46/330 (13.94%)\n",
      "\n"
     ]
    },
    {
     "name": "stderr",
     "output_type": "stream",
     "text": [
      "2it [00:00, 84.35it/s]\n"
     ]
    },
    {
     "name": "stdout",
     "output_type": "stream",
     "text": [
      "Train Epoch: 21 [0/710 (0%)]\tLoss: 0.824349\n",
      "\n",
      "Test set: Average loss: 0.0025, Accuracy: 60/330 (18.18%)\n",
      "\n"
     ]
    },
    {
     "name": "stderr",
     "output_type": "stream",
     "text": [
      "2it [00:00, 92.39it/s]"
     ]
    },
    {
     "name": "stdout",
     "output_type": "stream",
     "text": [
      "Train Epoch: 22 [0/710 (0%)]\tLoss: 0.823670\n"
     ]
    },
    {
     "name": "stderr",
     "output_type": "stream",
     "text": [
      "\n"
     ]
    },
    {
     "name": "stdout",
     "output_type": "stream",
     "text": [
      "\n",
      "Test set: Average loss: 0.0025, Accuracy: 65/330 (19.70%)\n",
      "\n"
     ]
    },
    {
     "name": "stderr",
     "output_type": "stream",
     "text": [
      "2it [00:00, 89.23it/s]\n"
     ]
    },
    {
     "name": "stdout",
     "output_type": "stream",
     "text": [
      "Train Epoch: 23 [0/710 (0%)]\tLoss: 0.823029\n",
      "\n",
      "Test set: Average loss: 0.0025, Accuracy: 70/330 (21.21%)\n",
      "\n"
     ]
    },
    {
     "name": "stderr",
     "output_type": "stream",
     "text": [
      "2it [00:00, 87.28it/s]\n"
     ]
    },
    {
     "name": "stdout",
     "output_type": "stream",
     "text": [
      "Train Epoch: 24 [0/710 (0%)]\tLoss: 0.822423\n",
      "\n",
      "Test set: Average loss: 0.0025, Accuracy: 75/330 (22.73%)\n",
      "\n"
     ]
    },
    {
     "name": "stderr",
     "output_type": "stream",
     "text": [
      "\r",
      "0it [00:00, ?it/s]"
     ]
    },
    {
     "name": "stdout",
     "output_type": "stream",
     "text": [
      "Train Epoch: 25 [0/710 (0%)]\tLoss: 0.821851\n"
     ]
    },
    {
     "name": "stderr",
     "output_type": "stream",
     "text": [
      "2it [00:00, 83.96it/s]\n"
     ]
    },
    {
     "name": "stdout",
     "output_type": "stream",
     "text": [
      "\n",
      "Test set: Average loss: 0.0025, Accuracy: 76/330 (23.03%)\n",
      "\n"
     ]
    },
    {
     "name": "stderr",
     "output_type": "stream",
     "text": [
      "2it [00:00, 95.36it/s]\n"
     ]
    },
    {
     "name": "stdout",
     "output_type": "stream",
     "text": [
      "Train Epoch: 26 [0/710 (0%)]\tLoss: 0.821311\n",
      "\n",
      "Test set: Average loss: 0.0025, Accuracy: 82/330 (24.85%)\n",
      "\n"
     ]
    },
    {
     "name": "stderr",
     "output_type": "stream",
     "text": [
      "2it [00:00, 90.44it/s]\n"
     ]
    },
    {
     "name": "stdout",
     "output_type": "stream",
     "text": [
      "Train Epoch: 27 [0/710 (0%)]\tLoss: 0.820801\n",
      "\n",
      "Test set: Average loss: 0.0025, Accuracy: 86/330 (26.06%)\n",
      "\n"
     ]
    },
    {
     "name": "stderr",
     "output_type": "stream",
     "text": [
      "\r",
      "0it [00:00, ?it/s]"
     ]
    },
    {
     "name": "stdout",
     "output_type": "stream",
     "text": [
      "Train Epoch: 28 [0/710 (0%)]\tLoss: 0.820318\n"
     ]
    },
    {
     "name": "stderr",
     "output_type": "stream",
     "text": [
      "2it [00:00, 96.68it/s]\n"
     ]
    },
    {
     "name": "stdout",
     "output_type": "stream",
     "text": [
      "\n",
      "Test set: Average loss: 0.0025, Accuracy: 90/330 (27.27%)\n",
      "\n"
     ]
    },
    {
     "name": "stderr",
     "output_type": "stream",
     "text": [
      "\r",
      "0it [00:00, ?it/s]"
     ]
    },
    {
     "name": "stdout",
     "output_type": "stream",
     "text": [
      "Train Epoch: 29 [0/710 (0%)]\tLoss: 0.819863\n"
     ]
    },
    {
     "name": "stderr",
     "output_type": "stream",
     "text": [
      "2it [00:00, 96.95it/s]\n"
     ]
    },
    {
     "name": "stdout",
     "output_type": "stream",
     "text": [
      "\n",
      "Test set: Average loss: 0.0025, Accuracy: 92/330 (27.88%)\n",
      "\n"
     ]
    },
    {
     "name": "stderr",
     "output_type": "stream",
     "text": [
      "\r",
      "0it [00:00, ?it/s]"
     ]
    },
    {
     "name": "stdout",
     "output_type": "stream",
     "text": [
      "Train Epoch: 30 [0/710 (0%)]\tLoss: 0.819433\n"
     ]
    },
    {
     "name": "stderr",
     "output_type": "stream",
     "text": [
      "2it [00:00, 90.62it/s]\n"
     ]
    },
    {
     "name": "stdout",
     "output_type": "stream",
     "text": [
      "\n",
      "Test set: Average loss: 0.0025, Accuracy: 93/330 (28.18%)\n",
      "\n"
     ]
    },
    {
     "name": "stderr",
     "output_type": "stream",
     "text": [
      "\r",
      "0it [00:00, ?it/s]"
     ]
    },
    {
     "name": "stdout",
     "output_type": "stream",
     "text": [
      "Train Epoch: 31 [0/710 (0%)]\tLoss: 0.819026\n"
     ]
    },
    {
     "name": "stderr",
     "output_type": "stream",
     "text": [
      "2it [00:00, 81.38it/s]\n"
     ]
    },
    {
     "name": "stdout",
     "output_type": "stream",
     "text": [
      "\n",
      "Test set: Average loss: 0.0025, Accuracy: 93/330 (28.18%)\n",
      "\n"
     ]
    },
    {
     "name": "stderr",
     "output_type": "stream",
     "text": [
      "2it [00:00, 95.40it/s]"
     ]
    },
    {
     "name": "stdout",
     "output_type": "stream",
     "text": [
      "Train Epoch: 32 [0/710 (0%)]\tLoss: 0.818643\n"
     ]
    },
    {
     "name": "stderr",
     "output_type": "stream",
     "text": [
      "\n"
     ]
    },
    {
     "name": "stdout",
     "output_type": "stream",
     "text": [
      "\n",
      "Test set: Average loss: 0.0025, Accuracy: 96/330 (29.09%)\n",
      "\n"
     ]
    },
    {
     "name": "stderr",
     "output_type": "stream",
     "text": [
      "2it [00:00, 79.06it/s]\n"
     ]
    },
    {
     "name": "stdout",
     "output_type": "stream",
     "text": [
      "Train Epoch: 33 [0/710 (0%)]\tLoss: 0.818280\n",
      "\n",
      "Test set: Average loss: 0.0025, Accuracy: 97/330 (29.39%)\n",
      "\n"
     ]
    },
    {
     "name": "stderr",
     "output_type": "stream",
     "text": [
      "2it [00:00, 100.36it/s]"
     ]
    },
    {
     "name": "stdout",
     "output_type": "stream",
     "text": [
      "Train Epoch: 34 [0/710 (0%)]\tLoss: 0.817938\n"
     ]
    },
    {
     "name": "stderr",
     "output_type": "stream",
     "text": [
      "\n"
     ]
    },
    {
     "name": "stdout",
     "output_type": "stream",
     "text": [
      "\n",
      "Test set: Average loss: 0.0025, Accuracy: 98/330 (29.70%)\n",
      "\n"
     ]
    },
    {
     "name": "stderr",
     "output_type": "stream",
     "text": [
      "2it [00:00, 62.01it/s]\n"
     ]
    },
    {
     "name": "stdout",
     "output_type": "stream",
     "text": [
      "Train Epoch: 35 [0/710 (0%)]\tLoss: 0.817615\n",
      "\n",
      "Test set: Average loss: 0.0025, Accuracy: 100/330 (30.30%)\n",
      "\n"
     ]
    },
    {
     "name": "stderr",
     "output_type": "stream",
     "text": [
      "2it [00:00, 95.93it/s]\n"
     ]
    },
    {
     "name": "stdout",
     "output_type": "stream",
     "text": [
      "Train Epoch: 36 [0/710 (0%)]\tLoss: 0.817310\n",
      "\n",
      "Test set: Average loss: 0.0025, Accuracy: 101/330 (30.61%)\n",
      "\n"
     ]
    },
    {
     "name": "stderr",
     "output_type": "stream",
     "text": [
      "2it [00:00, 80.28it/s]\n"
     ]
    },
    {
     "name": "stdout",
     "output_type": "stream",
     "text": [
      "Train Epoch: 37 [0/710 (0%)]\tLoss: 0.817022\n",
      "\n",
      "Test set: Average loss: 0.0025, Accuracy: 101/330 (30.61%)\n",
      "\n"
     ]
    },
    {
     "name": "stderr",
     "output_type": "stream",
     "text": [
      "2it [00:00, 80.86it/s]\n"
     ]
    },
    {
     "name": "stdout",
     "output_type": "stream",
     "text": [
      "Train Epoch: 38 [0/710 (0%)]\tLoss: 0.816749\n",
      "\n",
      "Test set: Average loss: 0.0025, Accuracy: 102/330 (30.91%)\n",
      "\n"
     ]
    },
    {
     "name": "stderr",
     "output_type": "stream",
     "text": [
      "2it [00:00, 93.36it/s]\n"
     ]
    },
    {
     "name": "stdout",
     "output_type": "stream",
     "text": [
      "Train Epoch: 39 [0/710 (0%)]\tLoss: 0.816492\n",
      "\n",
      "Test set: Average loss: 0.0024, Accuracy: 104/330 (31.52%)\n",
      "\n"
     ]
    },
    {
     "name": "stderr",
     "output_type": "stream",
     "text": [
      "2it [00:00, 96.11it/s]\n"
     ]
    },
    {
     "name": "stdout",
     "output_type": "stream",
     "text": [
      "Train Epoch: 40 [0/710 (0%)]\tLoss: 0.816250\n",
      "\n",
      "Test set: Average loss: 0.0024, Accuracy: 104/330 (31.52%)\n",
      "\n"
     ]
    },
    {
     "name": "stderr",
     "output_type": "stream",
     "text": [
      "2it [00:00, 75.23it/s]\n"
     ]
    },
    {
     "name": "stdout",
     "output_type": "stream",
     "text": [
      "Train Epoch: 41 [0/710 (0%)]\tLoss: 0.816021\n",
      "\n",
      "Test set: Average loss: 0.0024, Accuracy: 107/330 (32.42%)\n",
      "\n"
     ]
    },
    {
     "name": "stderr",
     "output_type": "stream",
     "text": [
      "2it [00:00, 93.20it/s]\n"
     ]
    },
    {
     "name": "stdout",
     "output_type": "stream",
     "text": [
      "Train Epoch: 42 [0/710 (0%)]\tLoss: 0.815805\n",
      "\n",
      "Test set: Average loss: 0.0024, Accuracy: 108/330 (32.73%)\n",
      "\n"
     ]
    },
    {
     "name": "stderr",
     "output_type": "stream",
     "text": [
      "2it [00:00, 93.27it/s]\n"
     ]
    },
    {
     "name": "stdout",
     "output_type": "stream",
     "text": [
      "Train Epoch: 43 [0/710 (0%)]\tLoss: 0.815600\n",
      "\n",
      "Test set: Average loss: 0.0024, Accuracy: 109/330 (33.03%)\n",
      "\n"
     ]
    },
    {
     "name": "stderr",
     "output_type": "stream",
     "text": [
      "\r",
      "0it [00:00, ?it/s]"
     ]
    },
    {
     "name": "stdout",
     "output_type": "stream",
     "text": [
      "Train Epoch: 44 [0/710 (0%)]\tLoss: 0.815408\n"
     ]
    },
    {
     "name": "stderr",
     "output_type": "stream",
     "text": [
      "2it [00:00, 94.92it/s]\n"
     ]
    },
    {
     "name": "stdout",
     "output_type": "stream",
     "text": [
      "\n",
      "Test set: Average loss: 0.0024, Accuracy: 111/330 (33.64%)\n",
      "\n"
     ]
    },
    {
     "name": "stderr",
     "output_type": "stream",
     "text": [
      "2it [00:00, 84.23it/s]"
     ]
    },
    {
     "name": "stdout",
     "output_type": "stream",
     "text": [
      "Train Epoch: 45 [0/710 (0%)]\tLoss: 0.815226\n"
     ]
    },
    {
     "name": "stderr",
     "output_type": "stream",
     "text": [
      "\n"
     ]
    },
    {
     "name": "stdout",
     "output_type": "stream",
     "text": [
      "\n",
      "Test set: Average loss: 0.0024, Accuracy: 112/330 (33.94%)\n",
      "\n"
     ]
    },
    {
     "name": "stderr",
     "output_type": "stream",
     "text": [
      "\r",
      "0it [00:00, ?it/s]"
     ]
    },
    {
     "name": "stdout",
     "output_type": "stream",
     "text": [
      "Train Epoch: 46 [0/710 (0%)]\tLoss: 0.815054\n"
     ]
    },
    {
     "name": "stderr",
     "output_type": "stream",
     "text": [
      "2it [00:00, 79.27it/s]\n"
     ]
    },
    {
     "name": "stdout",
     "output_type": "stream",
     "text": [
      "\n",
      "Test set: Average loss: 0.0024, Accuracy: 114/330 (34.55%)\n",
      "\n"
     ]
    },
    {
     "name": "stderr",
     "output_type": "stream",
     "text": [
      "2it [00:00, 70.49it/s]\n"
     ]
    },
    {
     "name": "stdout",
     "output_type": "stream",
     "text": [
      "Train Epoch: 47 [0/710 (0%)]\tLoss: 0.814892\n",
      "\n",
      "Test set: Average loss: 0.0024, Accuracy: 114/330 (34.55%)\n",
      "\n"
     ]
    },
    {
     "name": "stderr",
     "output_type": "stream",
     "text": [
      "2it [00:00, 96.25it/s]\n"
     ]
    },
    {
     "name": "stdout",
     "output_type": "stream",
     "text": [
      "Train Epoch: 48 [0/710 (0%)]\tLoss: 0.814739\n",
      "\n",
      "Test set: Average loss: 0.0024, Accuracy: 114/330 (34.55%)\n",
      "\n"
     ]
    },
    {
     "name": "stderr",
     "output_type": "stream",
     "text": [
      "2it [00:00, 95.35it/s]\n"
     ]
    },
    {
     "name": "stdout",
     "output_type": "stream",
     "text": [
      "Train Epoch: 49 [0/710 (0%)]\tLoss: 0.814595\n",
      "\n",
      "Test set: Average loss: 0.0024, Accuracy: 114/330 (34.55%)\n",
      "\n"
     ]
    },
    {
     "name": "stderr",
     "output_type": "stream",
     "text": [
      "2it [00:00, 96.62it/s]\n"
     ]
    },
    {
     "name": "stdout",
     "output_type": "stream",
     "text": [
      "Train Epoch: 50 [0/710 (0%)]\tLoss: 0.814459\n",
      "\n",
      "Test set: Average loss: 0.0024, Accuracy: 115/330 (34.85%)\n",
      "\n"
     ]
    },
    {
     "name": "stderr",
     "output_type": "stream",
     "text": [
      "2it [00:00, 96.08it/s]"
     ]
    },
    {
     "name": "stdout",
     "output_type": "stream",
     "text": [
      "Train Epoch: 51 [0/710 (0%)]\tLoss: 0.814331\n"
     ]
    },
    {
     "name": "stderr",
     "output_type": "stream",
     "text": [
      "\n"
     ]
    },
    {
     "name": "stdout",
     "output_type": "stream",
     "text": [
      "\n",
      "Test set: Average loss: 0.0024, Accuracy: 115/330 (34.85%)\n",
      "\n"
     ]
    },
    {
     "name": "stderr",
     "output_type": "stream",
     "text": [
      "2it [00:00, 96.93it/s]\n"
     ]
    },
    {
     "name": "stdout",
     "output_type": "stream",
     "text": [
      "Train Epoch: 52 [0/710 (0%)]\tLoss: 0.814209\n",
      "\n",
      "Test set: Average loss: 0.0024, Accuracy: 116/330 (35.15%)\n",
      "\n"
     ]
    },
    {
     "name": "stderr",
     "output_type": "stream",
     "text": [
      "2it [00:00, 73.99it/s]\n"
     ]
    },
    {
     "name": "stdout",
     "output_type": "stream",
     "text": [
      "Train Epoch: 53 [0/710 (0%)]\tLoss: 0.814095\n",
      "\n",
      "Test set: Average loss: 0.0024, Accuracy: 116/330 (35.15%)\n",
      "\n"
     ]
    },
    {
     "name": "stderr",
     "output_type": "stream",
     "text": [
      "2it [00:00, 86.54it/s]\n"
     ]
    },
    {
     "name": "stdout",
     "output_type": "stream",
     "text": [
      "Train Epoch: 54 [0/710 (0%)]\tLoss: 0.813987\n",
      "\n",
      "Test set: Average loss: 0.0024, Accuracy: 116/330 (35.15%)\n",
      "\n"
     ]
    },
    {
     "name": "stderr",
     "output_type": "stream",
     "text": [
      "\r",
      "0it [00:00, ?it/s]"
     ]
    },
    {
     "name": "stdout",
     "output_type": "stream",
     "text": [
      "Train Epoch: 55 [0/710 (0%)]\tLoss: 0.813886\n"
     ]
    },
    {
     "name": "stderr",
     "output_type": "stream",
     "text": [
      "2it [00:00, 81.77it/s]\n"
     ]
    },
    {
     "name": "stdout",
     "output_type": "stream",
     "text": [
      "\n",
      "Test set: Average loss: 0.0024, Accuracy: 119/330 (36.06%)\n",
      "\n"
     ]
    },
    {
     "name": "stderr",
     "output_type": "stream",
     "text": [
      "2it [00:00, 89.00it/s]\n"
     ]
    },
    {
     "name": "stdout",
     "output_type": "stream",
     "text": [
      "Train Epoch: 56 [0/710 (0%)]\tLoss: 0.813790\n",
      "\n",
      "Test set: Average loss: 0.0024, Accuracy: 119/330 (36.06%)\n",
      "\n"
     ]
    },
    {
     "name": "stderr",
     "output_type": "stream",
     "text": [
      "2it [00:00, 78.34it/s]\n"
     ]
    },
    {
     "name": "stdout",
     "output_type": "stream",
     "text": [
      "Train Epoch: 57 [0/710 (0%)]\tLoss: 0.813699\n",
      "\n",
      "Test set: Average loss: 0.0024, Accuracy: 119/330 (36.06%)\n",
      "\n"
     ]
    },
    {
     "name": "stderr",
     "output_type": "stream",
     "text": [
      "2it [00:00, 95.79it/s]\n"
     ]
    },
    {
     "name": "stdout",
     "output_type": "stream",
     "text": [
      "Train Epoch: 58 [0/710 (0%)]\tLoss: 0.813614\n",
      "\n",
      "Test set: Average loss: 0.0024, Accuracy: 119/330 (36.06%)\n",
      "\n"
     ]
    },
    {
     "name": "stderr",
     "output_type": "stream",
     "text": [
      "2it [00:00, 92.40it/s]\n"
     ]
    },
    {
     "name": "stdout",
     "output_type": "stream",
     "text": [
      "Train Epoch: 59 [0/710 (0%)]\tLoss: 0.813534\n",
      "\n",
      "Test set: Average loss: 0.0024, Accuracy: 120/330 (36.36%)\n",
      "\n"
     ]
    },
    {
     "name": "stderr",
     "output_type": "stream",
     "text": [
      "2it [00:00, 82.39it/s]\n"
     ]
    },
    {
     "name": "stdout",
     "output_type": "stream",
     "text": [
      "Train Epoch: 60 [0/710 (0%)]\tLoss: 0.813458\n",
      "\n",
      "Test set: Average loss: 0.0024, Accuracy: 120/330 (36.36%)\n",
      "\n"
     ]
    },
    {
     "name": "stderr",
     "output_type": "stream",
     "text": [
      "2it [00:00, 88.78it/s]\n"
     ]
    },
    {
     "name": "stdout",
     "output_type": "stream",
     "text": [
      "Train Epoch: 61 [0/710 (0%)]\tLoss: 0.813387\n",
      "\n",
      "Test set: Average loss: 0.0024, Accuracy: 120/330 (36.36%)\n",
      "\n"
     ]
    },
    {
     "name": "stderr",
     "output_type": "stream",
     "text": [
      "\r",
      "0it [00:00, ?it/s]"
     ]
    },
    {
     "name": "stdout",
     "output_type": "stream",
     "text": [
      "Train Epoch: 62 [0/710 (0%)]\tLoss: 0.813319\n"
     ]
    },
    {
     "name": "stderr",
     "output_type": "stream",
     "text": [
      "2it [00:00, 83.06it/s]\n"
     ]
    },
    {
     "name": "stdout",
     "output_type": "stream",
     "text": [
      "\n",
      "Test set: Average loss: 0.0024, Accuracy: 120/330 (36.36%)\n",
      "\n"
     ]
    },
    {
     "name": "stderr",
     "output_type": "stream",
     "text": [
      "2it [00:00, 85.83it/s]\n"
     ]
    },
    {
     "name": "stdout",
     "output_type": "stream",
     "text": [
      "Train Epoch: 63 [0/710 (0%)]\tLoss: 0.813256\n",
      "\n",
      "Test set: Average loss: 0.0024, Accuracy: 120/330 (36.36%)\n",
      "\n"
     ]
    },
    {
     "name": "stderr",
     "output_type": "stream",
     "text": [
      "2it [00:00, 88.11it/s]\n"
     ]
    },
    {
     "name": "stdout",
     "output_type": "stream",
     "text": [
      "Train Epoch: 64 [0/710 (0%)]\tLoss: 0.813196\n",
      "\n",
      "Test set: Average loss: 0.0024, Accuracy: 121/330 (36.67%)\n",
      "\n"
     ]
    },
    {
     "name": "stderr",
     "output_type": "stream",
     "text": [
      "2it [00:00, 95.82it/s]\n"
     ]
    },
    {
     "name": "stdout",
     "output_type": "stream",
     "text": [
      "Train Epoch: 65 [0/710 (0%)]\tLoss: 0.813140\n",
      "\n",
      "Test set: Average loss: 0.0024, Accuracy: 121/330 (36.67%)\n",
      "\n"
     ]
    },
    {
     "name": "stderr",
     "output_type": "stream",
     "text": [
      "2it [00:00, 84.71it/s]\n"
     ]
    },
    {
     "name": "stdout",
     "output_type": "stream",
     "text": [
      "Train Epoch: 66 [0/710 (0%)]\tLoss: 0.813087\n",
      "\n",
      "Test set: Average loss: 0.0024, Accuracy: 121/330 (36.67%)\n",
      "\n"
     ]
    },
    {
     "name": "stderr",
     "output_type": "stream",
     "text": [
      "2it [00:00, 81.37it/s]\n"
     ]
    },
    {
     "name": "stdout",
     "output_type": "stream",
     "text": [
      "Train Epoch: 67 [0/710 (0%)]\tLoss: 0.813037\n",
      "\n",
      "Test set: Average loss: 0.0024, Accuracy: 121/330 (36.67%)\n",
      "\n"
     ]
    },
    {
     "name": "stderr",
     "output_type": "stream",
     "text": [
      "2it [00:00, 68.69it/s]"
     ]
    },
    {
     "name": "stdout",
     "output_type": "stream",
     "text": [
      "Train Epoch: 68 [0/710 (0%)]\tLoss: 0.812991\n",
      "\n",
      "Test set: Average loss: 0.0024, Accuracy: 122/330 (36.97%)\n",
      "\n"
     ]
    },
    {
     "name": "stderr",
     "output_type": "stream",
     "text": [
      "\n",
      "2it [00:00, 92.45it/s]\n"
     ]
    },
    {
     "name": "stdout",
     "output_type": "stream",
     "text": [
      "Train Epoch: 69 [0/710 (0%)]\tLoss: 0.812947\n",
      "\n",
      "Test set: Average loss: 0.0024, Accuracy: 123/330 (37.27%)\n",
      "\n"
     ]
    },
    {
     "name": "stderr",
     "output_type": "stream",
     "text": [
      "2it [00:00, 89.81it/s]\n"
     ]
    },
    {
     "name": "stdout",
     "output_type": "stream",
     "text": [
      "Train Epoch: 70 [0/710 (0%)]\tLoss: 0.812905\n",
      "\n",
      "Test set: Average loss: 0.0024, Accuracy: 124/330 (37.58%)\n",
      "\n"
     ]
    },
    {
     "name": "stderr",
     "output_type": "stream",
     "text": [
      "2it [00:00, 96.36it/s]\n"
     ]
    },
    {
     "name": "stdout",
     "output_type": "stream",
     "text": [
      "Train Epoch: 71 [0/710 (0%)]\tLoss: 0.812866\n",
      "\n",
      "Test set: Average loss: 0.0024, Accuracy: 125/330 (37.88%)\n",
      "\n"
     ]
    },
    {
     "name": "stderr",
     "output_type": "stream",
     "text": [
      "2it [00:00, 95.85it/s]\n"
     ]
    },
    {
     "name": "stdout",
     "output_type": "stream",
     "text": [
      "Train Epoch: 72 [0/710 (0%)]\tLoss: 0.812829\n",
      "\n",
      "Test set: Average loss: 0.0024, Accuracy: 125/330 (37.88%)\n",
      "\n"
     ]
    },
    {
     "name": "stderr",
     "output_type": "stream",
     "text": [
      "2it [00:00, 96.99it/s]\n"
     ]
    },
    {
     "name": "stdout",
     "output_type": "stream",
     "text": [
      "Train Epoch: 73 [0/710 (0%)]\tLoss: 0.812795\n",
      "\n",
      "Test set: Average loss: 0.0024, Accuracy: 127/330 (38.48%)\n",
      "\n"
     ]
    },
    {
     "name": "stderr",
     "output_type": "stream",
     "text": [
      "2it [00:00, 100.56it/s]"
     ]
    },
    {
     "name": "stdout",
     "output_type": "stream",
     "text": [
      "Train Epoch: 74 [0/710 (0%)]\tLoss: 0.812763\n"
     ]
    },
    {
     "name": "stderr",
     "output_type": "stream",
     "text": [
      "\n"
     ]
    },
    {
     "name": "stdout",
     "output_type": "stream",
     "text": [
      "\n",
      "Test set: Average loss: 0.0024, Accuracy: 127/330 (38.48%)\n",
      "\n"
     ]
    },
    {
     "name": "stderr",
     "output_type": "stream",
     "text": [
      "2it [00:00, 87.70it/s]\n"
     ]
    },
    {
     "name": "stdout",
     "output_type": "stream",
     "text": [
      "Train Epoch: 75 [0/710 (0%)]\tLoss: 0.812732\n",
      "\n",
      "Test set: Average loss: 0.0024, Accuracy: 128/330 (38.79%)\n",
      "\n"
     ]
    },
    {
     "name": "stderr",
     "output_type": "stream",
     "text": [
      "2it [00:00, 90.72it/s]\n"
     ]
    },
    {
     "name": "stdout",
     "output_type": "stream",
     "text": [
      "Train Epoch: 76 [0/710 (0%)]\tLoss: 0.812703\n",
      "\n",
      "Test set: Average loss: 0.0024, Accuracy: 128/330 (38.79%)\n",
      "\n"
     ]
    },
    {
     "name": "stderr",
     "output_type": "stream",
     "text": [
      "2it [00:00, 89.27it/s]"
     ]
    },
    {
     "name": "stdout",
     "output_type": "stream",
     "text": [
      "Train Epoch: 77 [0/710 (0%)]\tLoss: 0.812677\n"
     ]
    },
    {
     "name": "stderr",
     "output_type": "stream",
     "text": [
      "\n"
     ]
    },
    {
     "name": "stdout",
     "output_type": "stream",
     "text": [
      "\n",
      "Test set: Average loss: 0.0024, Accuracy: 127/330 (38.48%)\n",
      "\n"
     ]
    },
    {
     "name": "stderr",
     "output_type": "stream",
     "text": [
      "2it [00:00, 100.21it/s]"
     ]
    },
    {
     "name": "stdout",
     "output_type": "stream",
     "text": [
      "Train Epoch: 78 [0/710 (0%)]\tLoss: 0.812651\n"
     ]
    },
    {
     "name": "stderr",
     "output_type": "stream",
     "text": [
      "\n"
     ]
    },
    {
     "name": "stdout",
     "output_type": "stream",
     "text": [
      "\n",
      "Test set: Average loss: 0.0024, Accuracy: 128/330 (38.79%)\n",
      "\n"
     ]
    },
    {
     "name": "stderr",
     "output_type": "stream",
     "text": [
      "2it [00:00, 101.92it/s]"
     ]
    },
    {
     "name": "stdout",
     "output_type": "stream",
     "text": [
      "Train Epoch: 79 [0/710 (0%)]\tLoss: 0.812628\n"
     ]
    },
    {
     "name": "stderr",
     "output_type": "stream",
     "text": [
      "\n"
     ]
    },
    {
     "name": "stdout",
     "output_type": "stream",
     "text": [
      "\n",
      "Test set: Average loss: 0.0024, Accuracy: 129/330 (39.09%)\n",
      "\n"
     ]
    },
    {
     "name": "stderr",
     "output_type": "stream",
     "text": [
      "2it [00:00, 88.47it/s]\n"
     ]
    },
    {
     "name": "stdout",
     "output_type": "stream",
     "text": [
      "Train Epoch: 80 [0/710 (0%)]\tLoss: 0.812606\n",
      "\n",
      "Test set: Average loss: 0.0024, Accuracy: 129/330 (39.09%)\n",
      "\n"
     ]
    },
    {
     "name": "stderr",
     "output_type": "stream",
     "text": [
      "2it [00:00, 100.03it/s]"
     ]
    },
    {
     "name": "stdout",
     "output_type": "stream",
     "text": [
      "Train Epoch: 81 [0/710 (0%)]\tLoss: 0.812585\n"
     ]
    },
    {
     "name": "stderr",
     "output_type": "stream",
     "text": [
      "\n"
     ]
    },
    {
     "name": "stdout",
     "output_type": "stream",
     "text": [
      "\n",
      "Test set: Average loss: 0.0024, Accuracy: 129/330 (39.09%)\n",
      "\n"
     ]
    },
    {
     "name": "stderr",
     "output_type": "stream",
     "text": [
      "2it [00:00, 90.12it/s]\n"
     ]
    },
    {
     "name": "stdout",
     "output_type": "stream",
     "text": [
      "Train Epoch: 82 [0/710 (0%)]\tLoss: 0.812565\n",
      "\n",
      "Test set: Average loss: 0.0024, Accuracy: 129/330 (39.09%)\n",
      "\n"
     ]
    },
    {
     "name": "stderr",
     "output_type": "stream",
     "text": [
      "\r",
      "0it [00:00, ?it/s]"
     ]
    },
    {
     "name": "stdout",
     "output_type": "stream",
     "text": [
      "Train Epoch: 83 [0/710 (0%)]\tLoss: 0.812547\n"
     ]
    },
    {
     "name": "stderr",
     "output_type": "stream",
     "text": [
      "2it [00:00, 93.88it/s]\n"
     ]
    },
    {
     "name": "stdout",
     "output_type": "stream",
     "text": [
      "\n",
      "Test set: Average loss: 0.0024, Accuracy: 129/330 (39.09%)\n",
      "\n"
     ]
    },
    {
     "name": "stderr",
     "output_type": "stream",
     "text": [
      "2it [00:00, 88.70it/s]"
     ]
    },
    {
     "name": "stdout",
     "output_type": "stream",
     "text": [
      "Train Epoch: 84 [0/710 (0%)]\tLoss: 0.812530\n"
     ]
    },
    {
     "name": "stderr",
     "output_type": "stream",
     "text": [
      "\n"
     ]
    },
    {
     "name": "stdout",
     "output_type": "stream",
     "text": [
      "\n",
      "Test set: Average loss: 0.0024, Accuracy: 129/330 (39.09%)\n",
      "\n"
     ]
    },
    {
     "name": "stderr",
     "output_type": "stream",
     "text": [
      "2it [00:00, 75.73it/s]"
     ]
    },
    {
     "name": "stdout",
     "output_type": "stream",
     "text": [
      "Train Epoch: 85 [0/710 (0%)]\tLoss: 0.812514\n"
     ]
    },
    {
     "name": "stderr",
     "output_type": "stream",
     "text": [
      "\n"
     ]
    },
    {
     "name": "stdout",
     "output_type": "stream",
     "text": [
      "\n",
      "Test set: Average loss: 0.0024, Accuracy: 129/330 (39.09%)\n",
      "\n"
     ]
    },
    {
     "name": "stderr",
     "output_type": "stream",
     "text": [
      "\r",
      "0it [00:00, ?it/s]"
     ]
    },
    {
     "name": "stdout",
     "output_type": "stream",
     "text": [
      "Train Epoch: 86 [0/710 (0%)]\tLoss: 0.812499\n"
     ]
    },
    {
     "name": "stderr",
     "output_type": "stream",
     "text": [
      "2it [00:00, 77.73it/s]\n"
     ]
    },
    {
     "name": "stdout",
     "output_type": "stream",
     "text": [
      "\n",
      "Test set: Average loss: 0.0024, Accuracy: 129/330 (39.09%)\n",
      "\n"
     ]
    },
    {
     "name": "stderr",
     "output_type": "stream",
     "text": [
      "2it [00:00, 91.39it/s]\n"
     ]
    },
    {
     "name": "stdout",
     "output_type": "stream",
     "text": [
      "Train Epoch: 87 [0/710 (0%)]\tLoss: 0.812485\n",
      "\n",
      "Test set: Average loss: 0.0024, Accuracy: 128/330 (38.79%)\n",
      "\n"
     ]
    },
    {
     "name": "stderr",
     "output_type": "stream",
     "text": [
      "2it [00:00, 99.03it/s]"
     ]
    },
    {
     "name": "stdout",
     "output_type": "stream",
     "text": [
      "Train Epoch: 88 [0/710 (0%)]\tLoss: 0.812472\n"
     ]
    },
    {
     "name": "stderr",
     "output_type": "stream",
     "text": [
      "\n"
     ]
    },
    {
     "name": "stdout",
     "output_type": "stream",
     "text": [
      "\n",
      "Test set: Average loss: 0.0024, Accuracy: 128/330 (38.79%)\n",
      "\n"
     ]
    },
    {
     "name": "stderr",
     "output_type": "stream",
     "text": [
      "2it [00:00, 98.01it/s]\n"
     ]
    },
    {
     "name": "stdout",
     "output_type": "stream",
     "text": [
      "Train Epoch: 89 [0/710 (0%)]\tLoss: 0.812460\n",
      "\n",
      "Test set: Average loss: 0.0024, Accuracy: 128/330 (38.79%)\n",
      "\n"
     ]
    },
    {
     "name": "stderr",
     "output_type": "stream",
     "text": [
      "2it [00:00, 94.86it/s]"
     ]
    },
    {
     "name": "stdout",
     "output_type": "stream",
     "text": [
      "Train Epoch: 90 [0/710 (0%)]\tLoss: 0.812449\n"
     ]
    },
    {
     "name": "stderr",
     "output_type": "stream",
     "text": [
      "\n"
     ]
    },
    {
     "name": "stdout",
     "output_type": "stream",
     "text": [
      "\n",
      "Test set: Average loss: 0.0024, Accuracy: 128/330 (38.79%)\n",
      "\n"
     ]
    },
    {
     "name": "stderr",
     "output_type": "stream",
     "text": [
      "\r",
      "0it [00:00, ?it/s]"
     ]
    },
    {
     "name": "stdout",
     "output_type": "stream",
     "text": [
      "Train Epoch: 91 [0/710 (0%)]\tLoss: 0.812438\n"
     ]
    },
    {
     "name": "stderr",
     "output_type": "stream",
     "text": [
      "2it [00:00, 21.26it/s]\n"
     ]
    },
    {
     "name": "stdout",
     "output_type": "stream",
     "text": [
      "\n",
      "Test set: Average loss: 0.0024, Accuracy: 128/330 (38.79%)\n",
      "\n"
     ]
    },
    {
     "name": "stderr",
     "output_type": "stream",
     "text": [
      "2it [00:00, 72.36it/s]\n"
     ]
    },
    {
     "name": "stdout",
     "output_type": "stream",
     "text": [
      "Train Epoch: 92 [0/710 (0%)]\tLoss: 0.812428\n",
      "\n",
      "Test set: Average loss: 0.0024, Accuracy: 128/330 (38.79%)\n",
      "\n"
     ]
    },
    {
     "name": "stderr",
     "output_type": "stream",
     "text": [
      "2it [00:00, 105.22it/s]\n"
     ]
    },
    {
     "name": "stdout",
     "output_type": "stream",
     "text": [
      "Train Epoch: 93 [0/710 (0%)]\tLoss: 0.812419\n",
      "\n",
      "Test set: Average loss: 0.0024, Accuracy: 129/330 (39.09%)\n",
      "\n"
     ]
    },
    {
     "name": "stderr",
     "output_type": "stream",
     "text": [
      "2it [00:00, 91.02it/s]\n"
     ]
    },
    {
     "name": "stdout",
     "output_type": "stream",
     "text": [
      "Train Epoch: 94 [0/710 (0%)]\tLoss: 0.812410\n",
      "\n",
      "Test set: Average loss: 0.0024, Accuracy: 129/330 (39.09%)\n",
      "\n"
     ]
    },
    {
     "name": "stderr",
     "output_type": "stream",
     "text": [
      "2it [00:00, 93.23it/s]\n"
     ]
    },
    {
     "name": "stdout",
     "output_type": "stream",
     "text": [
      "Train Epoch: 95 [0/710 (0%)]\tLoss: 0.812403\n",
      "\n",
      "Test set: Average loss: 0.0024, Accuracy: 129/330 (39.09%)\n",
      "\n"
     ]
    },
    {
     "name": "stderr",
     "output_type": "stream",
     "text": [
      "2it [00:00, 104.51it/s]\n"
     ]
    },
    {
     "name": "stdout",
     "output_type": "stream",
     "text": [
      "Train Epoch: 96 [0/710 (0%)]\tLoss: 0.812395\n",
      "\n",
      "Test set: Average loss: 0.0024, Accuracy: 129/330 (39.09%)\n",
      "\n"
     ]
    },
    {
     "name": "stderr",
     "output_type": "stream",
     "text": [
      "2it [00:00, 78.21it/s]\n"
     ]
    },
    {
     "name": "stdout",
     "output_type": "stream",
     "text": [
      "Train Epoch: 97 [0/710 (0%)]\tLoss: 0.812388\n",
      "\n",
      "Test set: Average loss: 0.0024, Accuracy: 129/330 (39.09%)\n",
      "\n"
     ]
    },
    {
     "name": "stderr",
     "output_type": "stream",
     "text": [
      "2it [00:00, 61.21it/s]\n"
     ]
    },
    {
     "name": "stdout",
     "output_type": "stream",
     "text": [
      "Train Epoch: 98 [0/710 (0%)]\tLoss: 0.812382\n",
      "\n",
      "Test set: Average loss: 0.0024, Accuracy: 129/330 (39.09%)\n",
      "\n"
     ]
    },
    {
     "name": "stderr",
     "output_type": "stream",
     "text": [
      "2it [00:00, 88.57it/s]"
     ]
    },
    {
     "name": "stdout",
     "output_type": "stream",
     "text": [
      "Train Epoch: 99 [0/710 (0%)]\tLoss: 0.812376\n",
      "\n",
      "Test set: Average loss: 0.0024, Accuracy: 130/330 (39.39%)\n",
      "\n"
     ]
    },
    {
     "name": "stderr",
     "output_type": "stream",
     "text": [
      "\n"
     ]
    }
   ],
   "source": [
    "model1 = LogisticRegression(input_dim,output_dim).to(device)\n",
    "optimizer1 = torch.optim.SGD(model1.parameters(), lr=0.1)\n",
    "\n",
    "for epoch in range(100):\n",
    "    train(model1, device, train_loader_all,optimizer1,epoch)\n",
    "    test(model1,device, test_loader)"
   ]
  },
  {
   "cell_type": "code",
   "execution_count": 22,
   "metadata": {},
   "outputs": [
    {
     "name": "stdout",
     "output_type": "stream",
     "text": [
      "linear.weight tensor([[-0.1849, -0.3146,  0.0776]], device='cuda:0')\n",
      "linear.bias tensor([0.1418], device='cuda:0')\n"
     ]
    }
   ],
   "source": [
    "for name, param in model1.named_parameters():\n",
    "    if param.requires_grad:\n",
    "        print(name, param.data)"
   ]
  },
  {
   "cell_type": "code",
   "execution_count": 23,
   "metadata": {},
   "outputs": [
    {
     "name": "stdout",
     "output_type": "stream",
     "text": [
      "linear.weight tensor([[-0.0346, -0.2471,  0.0193]], device='cuda:0')\n",
      "linear.bias tensor([1.2288], device='cuda:0')\n"
     ]
    }
   ],
   "source": [
    "for name, param in model.named_parameters():\n",
    "    if param.requires_grad:\n",
    "        print(name, param.data)"
   ]
  },
  {
   "cell_type": "code",
   "execution_count": null,
   "metadata": {},
   "outputs": [],
   "source": []
  }
 ],
 "metadata": {
  "kernelspec": {
   "display_name": "Python 3",
   "language": "python",
   "name": "python3"
  },
  "language_info": {
   "codemirror_mode": {
    "name": "ipython",
    "version": 3
   },
   "file_extension": ".py",
   "mimetype": "text/x-python",
   "name": "python",
   "nbconvert_exporter": "python",
   "pygments_lexer": "ipython3",
   "version": "3.6.10"
  }
 },
 "nbformat": 4,
 "nbformat_minor": 2
}
